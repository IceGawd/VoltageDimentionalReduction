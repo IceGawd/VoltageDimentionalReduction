{
 "cells": [
  {
   "cell_type": "code",
   "execution_count": 2,
   "id": "ce44a7b0-4639-455a-9ba2-2c1d58644c20",
   "metadata": {},
   "outputs": [],
   "source": [
    "from kmeans import *\n",
    "from voltage import *\n",
    "import os"
   ]
  },
  {
   "cell_type": "code",
   "execution_count": null,
   "id": "b3777ddb-9a4b-4f20-b165-ad11b680a674",
   "metadata": {},
   "outputs": [],
   "source": [
    "json_files = [file for file in os.listdir(\"./\") if file.endswith('.json')]\n",
    "\n",
    "data_map = {}\n",
    "for file in json_files:\n",
    "    data_map[file[:-5]] = load_data_json(file)"
   ]
  }
 ],
 "metadata": {
  "kernelspec": {
   "display_name": "Python 3 (ipykernel)",
   "language": "python",
   "name": "python3"
  },
  "language_info": {
   "codemirror_mode": {
    "name": "ipython",
    "version": 3
   },
   "file_extension": ".py",
   "mimetype": "text/x-python",
   "name": "python",
   "nbconvert_exporter": "python",
   "pygments_lexer": "ipython3",
   "version": "3.13.1"
  }
 },
 "nbformat": 4,
 "nbformat_minor": 5
}
