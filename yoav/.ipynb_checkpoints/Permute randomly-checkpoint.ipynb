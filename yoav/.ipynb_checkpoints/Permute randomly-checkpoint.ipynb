{
 "cells": [
  {
   "cell_type": "code",
   "execution_count": null,
   "id": "4e545180",
   "metadata": {},
   "outputs": [],
   "source": []
  },
  {
   "cell_type": "code",
   "execution_count": 1,
   "id": "10bd35c8",
   "metadata": {},
   "outputs": [],
   "source": [
    "import kagglehub\n",
    "from time import time\n",
    "import numpy as np\n",
    "    \n",
    "path = kagglehub.dataset_download(\"thanakomsn/glove6b300dtxt\")\n",
    "glove_path = path + \"/glove.6B.300d.txt\" "
   ]
  },
  {
   "cell_type": "code",
   "execution_count": null,
   "id": "9c6b8a35",
   "metadata": {},
   "outputs": [],
   "source": [
    "import os\n",
    "import tempfile\n",
    "import random\n",
    "import heapq\n",
    "import shutil\n",
    "\n",
    "def tag_lines_with_random_keys(input_path, temp_dir, lines_per_chunk=100000):\n",
    "    chunk_files = []\n",
    "    with open(input_path, 'r') as infile:\n",
    "        while True:\n",
    "            lines = []\n",
    "            try:\n",
    "                for _ in range(lines_per_chunk):\n",
    "                    line = next(infile)\n",
    "                    key = random.random()\n",
    "                    lines.append((key, line))\n",
    "            except StopIteration:\n",
    "                pass\n",
    "\n",
    "            if not lines:\n",
    "                break\n",
    "\n",
    "            # Sort by key before writing (optional for efficiency)\n",
    "            lines.sort()\n",
    "            temp_path = os.path.join(temp_dir, next(tempfile._get_candidate_names()) + \".txt\")\n",
    "            with open(temp_path, 'w') as f:\n",
    "                for key, line in lines:\n",
    "                    f.write(f\"{key:.17f}\\t{line}\")\n",
    "            chunk_files.append(temp_path)\n",
    "    return chunk_files\n",
    "\n",
    "def merge_sorted_chunks(chunk_files, output_path):\n",
    "    def line_iter(file_path):\n",
    "        with open(file_path, 'r') as f:\n",
    "            for line in f:\n",
    "                key_str, content = line.split('\\t', 1)\n",
    "                yield (float(key_str), content)\n",
    "\n",
    "    # Use heapq.merge to perform an external merge sort\n",
    "    with open(output_path, 'w') as outfile:\n",
    "        for _, line in heapq.merge(*(line_iter(fp) for fp in chunk_files)):\n",
    "            outfile.write(line)\n",
    "\n",
    "def shuffle_large_file_external(input_path, output_path):\n",
    "    with tempfile.TemporaryDirectory() as temp_dir:\n",
    "        chunk_files = tag_lines_with_random_keys(input_path, temp_dir)\n",
    "        merge_sorted_chunks(chunk_files, output_path)\n",
    "        # temp_dir and its files are automatically cleaned up\n",
    "\n",
    "# Example usage:"
   ]
  },
  {
   "cell_type": "code",
   "execution_count": 4,
   "id": "84d83c55",
   "metadata": {},
   "outputs": [
    {
     "name": "stdout",
     "output_type": "stream",
     "text": [
      "CPU times: user 1.75 s, sys: 1.78 s, total: 3.54 s\n",
      "Wall time: 3.79 s\n"
     ]
    }
   ],
   "source": [
    "%%time\n",
    "shuffle_large_file_external(glove_path, 'shuffled_output.txt')"
   ]
  },
  {
   "cell_type": "code",
   "execution_count": null,
   "id": "0acb72f6",
   "metadata": {},
   "outputs": [],
   "source": []
  }
 ],
 "metadata": {
  "kernelspec": {
   "display_name": "Python (base))",
   "language": "python",
   "name": "base"
  },
  "language_info": {
   "codemirror_mode": {
    "name": "ipython",
    "version": 3
   },
   "file_extension": ".py",
   "mimetype": "text/x-python",
   "name": "python",
   "nbconvert_exporter": "python",
   "pygments_lexer": "ipython3",
   "version": "3.9.22"
  },
  "toc": {
   "base_numbering": 1,
   "nav_menu": {},
   "number_sections": true,
   "sideBar": true,
   "skip_h1_title": false,
   "title_cell": "Table of Contents",
   "title_sidebar": "Contents",
   "toc_cell": false,
   "toc_position": {},
   "toc_section_display": true,
   "toc_window_display": false
  }
 },
 "nbformat": 4,
 "nbformat_minor": 5
}
