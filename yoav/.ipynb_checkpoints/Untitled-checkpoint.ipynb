{
 "cells": [
  {
   "cell_type": "code",
   "execution_count": 18,
   "id": "38e8cf3a",
   "metadata": {},
   "outputs": [
    {
     "name": "stdout",
     "output_type": "stream",
     "text": [
      "Warning: Looks like you're using an outdated `kagglehub` version (installed: 0.3.8), please consider upgrading to the latest version (0.3.12).\n",
      "Read 100000 vectors\n",
      "Fitting initial model with KMeans++\n",
      "\n",
      "Streaming batches for incremental training...\n",
      "Read 400000 vectors\n",
      "Training complete.\n",
      "Model saved to glove_kmeans_model.pkl\n"
     ]
    }
   ],
   "source": [
    "#%%writefile Kmeans++.py\n",
    "\n",
    "import numpy as np\n",
    "import os\n",
    "import pickle\n",
    "from sklearn.cluster import MiniBatchKMeans\n",
    "from sklearn.preprocessing import normalize\n",
    "import kagglehub\n",
    "\n",
    "# -------------------- Reader --------------------\n",
    "class Reader:\n",
    "    def __init__(self, path):\n",
    "        self.file_path = self._find_glove_file(path)\n",
    "        self.file = open(self.file_path, 'r', encoding='utf-8')\n",
    "        self.counter = 0\n",
    "\n",
    "    def _find_glove_file(self, path):\n",
    "        for fname in os.listdir(path):\n",
    "            if fname.endswith('.txt') and '300d' in fname:\n",
    "                return os.path.join(path, fname)\n",
    "        raise FileNotFoundError(\"Could not find GloVe 300d file in the path.\")\n",
    "\n",
    "    def stream_batches(self, batch_size):\n",
    "        while True:\n",
    "            L = []\n",
    "            words = []\n",
    "            for _ in range(batch_size):\n",
    "                line = self.file.readline()\n",
    "                if line == '':\n",
    "                    break\n",
    "                parts = line.strip().split()\n",
    "                if len(parts) != 301:\n",
    "                    continue  # Malformed line\n",
    "                word = parts[0]\n",
    "                vec = np.array([float(x) for x in parts[1:]], dtype=np.float32)\n",
    "                words.append(word)\n",
    "                L.append(vec)\n",
    "                self.counter += 1\n",
    "                if self.counter % 1000 == 0:\n",
    "                    print(f\"\\rRead {self.counter} vectors\", end='', flush=True)\n",
    "            if not L:\n",
    "                break\n",
    "            yield np.array(words), np.stack(L)\n",
    "\n",
    "    def close(self):\n",
    "        self.file.close()\n",
    "\n",
    "# -------------------- Main --------------------\n",
    "def main():\n",
    "    # Parameters\n",
    "    k = 1000\n",
    "    init_size = 100000\n",
    "    batch_size = 1000\n",
    "\n",
    "    # Download the GloVe dataset\n",
    "    path = kagglehub.dataset_download(\"thanakomsn/glove6b300dtxt\")\n",
    "    #path='./shuffled_output.txt'\n",
    "    reader = Reader(path)\n",
    "\n",
    "    # Step 1: Initialize from first N vectors using k-means++\n",
    "\n",
    "    words_init, X_init = next(reader.stream_batches(init_size))\n",
    "    X_init = normalize(X_init, axis=1)\n",
    "\n",
    "    print(\"\\nFitting initial model with KMeans++\")\n",
    "    kmeans = MiniBatchKMeans(n_clusters=k, init='k-means++', n_init=1,\n",
    "                              batch_size=batch_size, max_iter=10)\n",
    "    kmeans.fit(X_init)\n",
    "\n",
    "    # Step 2: Stream remaining data for incremental updates\n",
    "    print(\"\\nStreaming batches for incremental training...\")\n",
    "    for _, X_batch in reader.stream_batches(batch_size):\n",
    "        X_batch = normalize(X_batch, axis=1)\n",
    "        kmeans.partial_fit(X_batch)\n",
    "\n",
    "    reader.close()\n",
    "    print(\"\\nTraining complete.\")\n",
    "\n",
    "    # Step 3: Save model\n",
    "    with open(\"glove_kmeans_model.pkl\", \"wb\") as f:\n",
    "        pickle.dump(kmeans, f)\n",
    "    print(\"Model saved to glove_kmeans_model.pkl\")\n",
    "\n",
    "if __name__ == \"__main__\":\n",
    "    main()\n"
   ]
  },
  {
   "cell_type": "code",
   "execution_count": 5,
   "id": "96d7324f",
   "metadata": {},
   "outputs": [
    {
     "data": {
      "text/plain": [
       "(1000, 300)"
      ]
     },
     "execution_count": 5,
     "metadata": {},
     "output_type": "execute_result"
    }
   ],
   "source": [
    "with open('glove_kmeans_model.pkl','rb') as pkl:\n",
    "    model=pickle.load(pkl)\n",
    "model.cluster_centers_.shape"
   ]
  },
  {
   "cell_type": "code",
   "execution_count": 12,
   "id": "4b636d94",
   "metadata": {},
   "outputs": [
    {
     "ename": "AttributeError",
     "evalue": "'MiniBatchKMeans' object has no attribute 'counts_'",
     "output_type": "error",
     "traceback": [
      "\u001b[0;31m---------------------------------------------------------------------------\u001b[0m",
      "\u001b[0;31mAttributeError\u001b[0m                            Traceback (most recent call last)",
      "Cell \u001b[0;32mIn[12], line 1\u001b[0m\n\u001b[0;32m----> 1\u001b[0m \u001b[43mmodel\u001b[49m\u001b[38;5;241;43m.\u001b[39;49m\u001b[43mcounts_\u001b[49m\n",
      "\u001b[0;31mAttributeError\u001b[0m: 'MiniBatchKMeans' object has no attribute 'counts_'"
     ]
    }
   ],
   "source": [
    "model.counts_"
   ]
  },
  {
   "cell_type": "code",
   "execution_count": null,
   "id": "1b5a7040",
   "metadata": {},
   "outputs": [],
   "source": []
  }
 ],
 "metadata": {
  "kernelspec": {
   "display_name": "Python (base))",
   "language": "python",
   "name": "base"
  },
  "language_info": {
   "codemirror_mode": {
    "name": "ipython",
    "version": 3
   },
   "file_extension": ".py",
   "mimetype": "text/x-python",
   "name": "python",
   "nbconvert_exporter": "python",
   "pygments_lexer": "ipython3",
   "version": "3.9.22"
  },
  "toc": {
   "base_numbering": 1,
   "nav_menu": {},
   "number_sections": true,
   "sideBar": true,
   "skip_h1_title": false,
   "title_cell": "Table of Contents",
   "title_sidebar": "Contents",
   "toc_cell": false,
   "toc_position": {},
   "toc_section_display": true,
   "toc_window_display": false
  }
 },
 "nbformat": 4,
 "nbformat_minor": 5
}
