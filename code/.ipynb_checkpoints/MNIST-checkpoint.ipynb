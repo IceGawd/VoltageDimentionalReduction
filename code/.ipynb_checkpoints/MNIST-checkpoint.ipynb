{
 "cells": [
  {
   "cell_type": "code",
   "execution_count": 21,
   "id": "62291881-06f3-4d0e-a178-ed0853252e58",
   "metadata": {},
   "outputs": [],
   "source": [
    "import create_data\n",
    "import kmeans\n",
    "import voltage\n",
    "import os\n",
    "import importlib\n",
    "import time\n",
    "import bpf\n",
    "import numpy as np\n",
    "\n",
    "from sklearn.metrics import confusion_matrix, ConfusionMatrixDisplay\n",
    "from sklearn.decomposition import PCA\n",
    "from sklearn.manifold import MDS\n",
    "import matplotlib.pyplot as plt\n",
    "from sklearn.datasets import fetch_openml"
   ]
  },
  {
   "cell_type": "code",
   "execution_count": 22,
   "id": "499c0c1b-e9ba-4fd1-bd2e-0dc66a9a8b9b",
   "metadata": {},
   "outputs": [
    {
     "data": {
      "text/plain": [
       "<module 'bpf' from 'C:\\\\Users\\\\avigh\\\\Documents\\\\python\\\\VoltageDimentionalReduction\\\\code\\\\bpf.py'>"
      ]
     },
     "execution_count": 22,
     "metadata": {},
     "output_type": "execute_result"
    }
   ],
   "source": [
    "importlib.reload(create_data)\n",
    "importlib.reload(kmeans)\n",
    "importlib.reload(voltage)\n",
    "importlib.reload(bpf)"
   ]
  },
  {
   "cell_type": "code",
   "execution_count": 23,
   "id": "d47dd5d2-5c87-4dd4-a83f-c4e762825880",
   "metadata": {},
   "outputs": [
    {
     "name": "stdout",
     "output_type": "stream",
     "text": [
      "Loading Data...\n"
     ]
    }
   ],
   "source": [
    "print(\"Loading Data...\")\n",
    "mnist = fetch_openml('mnist_784', version=1, as_frame=False)\n",
    "X, y = mnist.data, mnist.target.astype(np.int64)\n",
    "\n",
    "# data = create_data.Data(np.array(X))"
   ]
  },
  {
   "cell_type": "code",
   "execution_count": 24,
   "id": "e6cd943a-a06e-4bbd-975f-687f12df8d24",
   "metadata": {},
   "outputs": [
    {
     "name": "stdout",
     "output_type": "stream",
     "text": [
      "Sorting and averaging...\n"
     ]
    }
   ],
   "source": [
    "# MNIST Pre-processing\n",
    "\n",
    "subDivision = {}\n",
    "summation = {}\n",
    "count = {}\n",
    "\n",
    "print(\"Sorting and averaging...\")\n",
    "\n",
    "for xi, yi in zip(X, y):\n",
    "    if yi in summation:\n",
    "        subDivision[yi].append(np.array(xi))\n",
    "        summation[yi] += np.array(xi)\n",
    "        count[yi] += 1\n",
    "    else:\n",
    "        subDivision[yi] = [np.array(xi)]\n",
    "        summation[yi] = np.array(xi)\n",
    "        count[yi] = 1"
   ]
  },
  {
   "cell_type": "code",
   "execution_count": 25,
   "id": "0040fbcc-c94e-45a5-86af-6b6e396dc30d",
   "metadata": {},
   "outputs": [
    {
     "name": "stdout",
     "output_type": "stream",
     "text": [
      "Kmeans...\n",
      "0\n",
      "1\n",
      "2\n",
      "3\n",
      "4\n",
      "5\n",
      "6\n",
      "7\n",
      "8\n",
      "9\n"
     ]
    },
    {
     "data": {
      "text/plain": [
       "'\\nfor sd in subDivision:\\n    print(len(subDivision[sd]))\\n\\ndata = create_data.Data(X)\\n# '"
      ]
     },
     "execution_count": 25,
     "metadata": {},
     "output_type": "execute_result"
    }
   ],
   "source": [
    "# Kmeans sampling equal points from each of the 10 digits\n",
    "\n",
    "# \"\"\"\n",
    "print(\"Kmeans...\")\n",
    "\n",
    "points = 1000\n",
    "k = points // 10\n",
    "data = []\n",
    "\n",
    "for yi in range(10):\n",
    "    print(yi)\n",
    "    \n",
    "    partitions = kmeans.Partitions(subDivision[yi])\n",
    "    partitions.k_means(k, seed=time.time())\n",
    "\n",
    "    data += list(partitions.centers)\n",
    "\n",
    "data = create_data.Data(data)\n",
    "# \"\"\"\n",
    "\n",
    "\"\"\"\n",
    "for sd in subDivision:\n",
    "    print(len(subDivision[sd]))\n",
    "\n",
    "data = create_data.Data(X)\n",
    "# \"\"\"\n"
   ]
  },
  {
   "cell_type": "code",
   "execution_count": 26,
   "id": "328d8906-0dff-4835-a3d5-5e85c9807147",
   "metadata": {},
   "outputs": [
    {
     "name": "stdout",
     "output_type": "stream",
     "text": [
      "1000\n",
      "[91, 197, 213, 331, 474, 547, 639, 770, 818, 936]\n"
     ]
    },
    {
     "data": {
      "text/plain": [
       "'\\nlandmarks = []\\nfor yi in range(10):\\n    landmark = voltage.Landmark(-1, 1)\\n\\n    ignore = []\\n    while (y[landmark.index] != yi):\\n        landmark = voltage.Landmark.createLandmarkClosestTo(data, summation[yi] / count[yi], 1, ignore=ignore)\\n\\n        ignore.append(landmark.index)\\n\\n    landmarks.append(landmark)\\n\\nprint(len(data))\\nprint([l.index for l in landmarks])\\n# '"
      ]
     },
     "execution_count": 26,
     "metadata": {},
     "output_type": "execute_result"
    }
   ],
   "source": [
    "# Create the landmarks\n",
    "\n",
    "# \"\"\"\n",
    "landmarks = []\n",
    "for yi in range(10):\n",
    "    landmark = voltage.Landmark(-1, 1)\n",
    "\n",
    "    ignore = []\n",
    "    while (landmark.index // k != yi):\n",
    "        ignore.append(landmark.index)\n",
    "\n",
    "        landmark = voltage.Landmark.createLandmarkClosestTo(data, summation[yi] / count[yi], 1, ignore=ignore)\n",
    " \n",
    "    landmarks.append(landmark)\n",
    "\n",
    "print(len(data))\n",
    "print([l.index for l in landmarks])\n",
    "# \"\"\"\n",
    "\n",
    "\"\"\"\n",
    "landmarks = []\n",
    "for yi in range(10):\n",
    "    landmark = voltage.Landmark(-1, 1)\n",
    "\n",
    "    ignore = []\n",
    "    while (y[landmark.index] != yi):\n",
    "        landmark = voltage.Landmark.createLandmarkClosestTo(data, summation[yi] / count[yi], 1, ignore=ignore)\n",
    "\n",
    "        ignore.append(landmark.index)\n",
    "\n",
    "    landmarks.append(landmark)\n",
    "\n",
    "print(len(data))\n",
    "print([l.index for l in landmarks])\n",
    "# \"\"\""
   ]
  },
  {
   "cell_type": "code",
   "execution_count": 27,
   "id": "9134cd40-628f-4001-8800-b168efd6ab6e",
   "metadata": {},
   "outputs": [
    {
     "name": "stdout",
     "output_type": "stream",
     "text": [
      "<class 'create_data.Data'>\n",
      "True\n"
     ]
    }
   ],
   "source": [
    "print(type(data))\n",
    "print(isinstance(data, create_data.Data))"
   ]
  },
  {
   "cell_type": "code",
   "execution_count": 30,
   "id": "1cfdc8de-a004-4a02-a260-50fb907207b4",
   "metadata": {},
   "outputs": [
    {
     "name": "stdout",
     "output_type": "stream",
     "text": [
      "Parameter Finding...\n",
      "499.99999999999983 1.0512710963760241\n",
      "499.99999999999983 1.0512710963760241\n",
      "499.99999999999983 1.0512710963760241\n",
      "499.99999999999983 1.0512710963760241\n",
      "499.99999999999983 1.0512710963760241\n",
      "499.99999999999983 1.0512710963760241\n",
      "499.99999999999983 1.0512710963760241\n",
      "499.99999999999983 1.0512710963760241\n",
      "499.99999999999983 1.0512710963760241\n",
      "499.99999999999983 1.0512710963760241\n"
     ]
    }
   ],
   "source": [
    "importlib.reload(bpf)\n",
    "\n",
    "print(\"Parameter Finding...\")\n",
    "\n",
    "cs = []\n",
    "pgs = []\n",
    "\n",
    "param_finder = bpf.BestParameterFinder()\n",
    "param_finder.setKernelParameter(500)\n",
    "# param_finder.setResistanceToGround(0.1)\n",
    "\n",
    "for landmark in landmarks:\n",
    "     c, p_g = param_finder.bestParameterFinder([landmark], data, minBound=0, maxBound=10, granularity=10, epsilon=0.1, approx=100)\n",
    "     print(c, p_g)\n",
    "     cs.append(c)\n",
    "     pgs.append(p_g)\n",
    "\n",
    "# print(cs)\n",
    "# print(pgs)"
   ]
  },
  {
   "cell_type": "code",
   "execution_count": 31,
   "id": "d1176891-bd9a-4c29-a8c3-9f67cab2a25e",
   "metadata": {},
   "outputs": [
    {
     "name": "stdout",
     "output_type": "stream",
     "text": [
      "1000\n"
     ]
    }
   ],
   "source": [
    "print(len(data))\n",
    "# print(cs)\n",
    "# print(pgs)\n",
    "c, p_g = param_finder.bestParameterFinder(landmarks, data, minBound=-10, maxBound=10, granularity=10, epsilon=0.5, approx=100)"
   ]
  },
  {
   "cell_type": "code",
   "execution_count": 32,
   "id": "a7b54320-b761-4c0b-82a6-9bd2cb44942b",
   "metadata": {},
   "outputs": [
    {
     "name": "stdout",
     "output_type": "stream",
     "text": [
      "6.214608098422191 3.3\n"
     ]
    }
   ],
   "source": [
    "print(np.log(c), np.log(p_g))\n",
    "# c, p_g = cs[1], pgs[1]"
   ]
  },
  {
   "cell_type": "code",
   "execution_count": 33,
   "id": "84da591b-c664-4f92-b6f7-86d3ba91bb43",
   "metadata": {},
   "outputs": [],
   "source": [
    "voltages = []\n",
    "\n",
    "for index in range(0, len(landmarks)):\n",
    "    problem = voltage.Problem(data)\n",
    "    problem.setKernel(problem.gaussiankernel)\n",
    "    # problem.setWeights(cs[index])\n",
    "    problem.setWeights(c)\n",
    "    problem.addLandmark(landmarks[index])\n",
    "    # problem.addUniversalGround(pgs[index])\n",
    "    problem.addUniversalGround(p_g)\n",
    "    voltages.append(voltage.Solver(problem).approximate_voltages(max_iters=100))"
   ]
  },
  {
   "cell_type": "code",
   "execution_count": null,
   "id": "cb8f42f8-2c7f-48e4-ab3c-c864eccc8db6",
   "metadata": {},
   "outputs": [],
   "source": [
    "param_finder.visualizations(voltages, \"../inputoutput/matplotfigures/MNIST\")"
   ]
  },
  {
   "cell_type": "code",
   "execution_count": null,
   "id": "ed0ede96-de03-4a88-996b-8a826e272ddf",
   "metadata": {},
   "outputs": [],
   "source": [
    "problem = voltage.Problem(data)\n",
    "problem.setKernel(problem.gaussiankernel)\n",
    "problem.setWeights(np.exp(6))\n",
    "# problem.setWeights(c)\n",
    "problem.addLandmark(landmarks[0])\n",
    "problem.addUniversalGround(0.1)\n",
    "\n",
    "temp_volts = voltage.Solver(problem).approximate_voltages(max_iters=100)\n",
    "print(param_finder.nInfExp(temp_volts))\n",
    "print(param_finder.expWithStd(temp_volts))\n",
    "print(np.std(temp_volts))\n",
    "\n",
    "problem.setWeights(np.exp(10))\n",
    "temp_volts = voltage.Solver(problem).approximate_voltages(max_iters=100)\n",
    "print(param_finder.nInfExp(temp_volts))\n",
    "print(param_finder.expWithStd(temp_volts))\n",
    "print(np.std(temp_volts))"
   ]
  },
  {
   "cell_type": "code",
   "execution_count": null,
   "id": "0d6f2c8a-89b7-4637-93a3-165975705e7c",
   "metadata": {
    "scrolled": true
   },
   "outputs": [],
   "source": [
    "print(voltages[0])"
   ]
  },
  {
   "cell_type": "code",
   "execution_count": null,
   "id": "ce8fe481-6753-4e82-bb86-535cc43ad5d8",
   "metadata": {
    "scrolled": true
   },
   "outputs": [],
   "source": [
    "print(voltages[1])"
   ]
  },
  {
   "cell_type": "code",
   "execution_count": null,
   "id": "cc236425-b160-4bf0-a5f2-e3db6c22d8cc",
   "metadata": {},
   "outputs": [],
   "source": [
    "predicted = np.argmax(voltages, axis=0)\n",
    "correct = np.repeat(np.arange(10), k)\n",
    "\n",
    "num_incorrect = np.sum(predicted != correct)\n",
    "\n",
    "accuracy = np.mean(predicted == correct)\n",
    "error_rate = 1 - accuracy\n",
    "\n",
    "print(f\"Incorrect predictions: {num_incorrect}/{len(data)}\")\n",
    "print(f\"Accuracy: {accuracy:.2%}\")\n",
    "print(f\"Error Rate: {error_rate:.2%}\")\n",
    "\n",
    "cm = confusion_matrix(correct, predicted, labels=np.arange(10))\n",
    "\n",
    "disp = ConfusionMatrixDisplay(confusion_matrix=cm, display_labels=np.arange(10))\n",
    "disp.plot(cmap='viridis')\n",
    "plt.title(\"Confusion Matrix\")\n",
    "plt.show()\n",
    "plt.clf()"
   ]
  },
  {
   "cell_type": "code",
   "execution_count": null,
   "id": "acc3f51a-a333-4e38-a2d6-326cc6834f9b",
   "metadata": {},
   "outputs": [],
   "source": [
    "points = np.array(list(map(list, zip(*voltages))))\n",
    "\n",
    "print(points.shape)\n",
    "\n",
    "# PCA\n",
    "pca = PCA(n_components=2)\n",
    "points_2d = pca.fit_transform(points)\n",
    "\n",
    "# print(points_2d.shape)\n",
    "\n",
    "plt.scatter(points_2d[:, 0], points_2d[:, 1], s=10)\n",
    "plt.xlabel(\"PCA Component 1\")\n",
    "plt.ylabel(\"PCA Component 2\")\n",
    "plt.title(\"PCA Projection of Solver Outputs\")\n",
    "\n",
    "plt.show()\n",
    "# plt.savefig(fileStarter + \"_PCA.png\")\n",
    "plt.clf()\n",
    "\n",
    "# MDS\n",
    "mds = MDS(n_components=2, random_state=42)\n",
    "transformed_points = mds.fit_transform(points)\n",
    "\n",
    "print(transformed_points.shape)\n",
    "\n",
    "plt.figure(figsize=(8, 6))\n",
    "plt.scatter(transformed_points[:, 0], transformed_points[:, 1], c='blue', edgecolors='black')\n",
    "\n",
    "plt.xlabel(\"MDS Dimension 1\")\n",
    "plt.ylabel(\"MDS Dimension 2\")\n",
    "plt.title(\"Multidimensional Scaling (MDS) to 2D\")\n",
    "\n",
    "# plt.savefig(fileStarter + \"_MDS.png\")\n",
    "plt.show()\n",
    "plt.clf()"
   ]
  },
  {
   "cell_type": "code",
   "execution_count": null,
   "id": "dd5d3e16-ac9b-444e-a055-d1180be39f4f",
   "metadata": {},
   "outputs": [],
   "source": [
    "# Step 1: Calculate distances from the mean (or median) of all points\n",
    "center = np.mean(transformed_points, axis=0)\n",
    "distances = np.linalg.norm(transformed_points - center, axis=1)\n",
    "\n",
    "# Step 2: Find the indices of the 10 most distant points\n",
    "outlier_indices = np.argsort(distances)[-10:]\n",
    "\n",
    "# Step 3: Get the mask of inliers (non-outliers)\n",
    "mask = np.ones(len(transformed_points), dtype=bool)\n",
    "mask[outlier_indices] = False\n",
    "\n",
    "# Step 4: Get the non-outlier (central cluster) points\n",
    "inlier_points = transformed_points[mask]\n",
    "\n",
    "# Plot with zoom-in\n",
    "fig, ax = plt.subplots(figsize=(12, 10))\n",
    "for i in np.where(mask)[0]:\n",
    "    ax.text(transformed_points[i, 0], transformed_points[i, 1], str(correct[i]),\n",
    "            color='black', fontsize=8, alpha=1,\n",
    "            ha='center', va='center')\n",
    "\n",
    "# Set axis limits based on inlier points\n",
    "ax.set_xlim(inlier_points[:, 0].min(), inlier_points[:, 0].max())\n",
    "ax.set_ylim(inlier_points[:, 1].min(), inlier_points[:, 1].max())\n",
    "\n",
    "plt.axis('off')\n",
    "plt.title(\"MNIST Digit Labels in MDS Space (Zoomed In, Outliers Ignored)\")\n",
    "plt.show()"
   ]
  },
  {
   "cell_type": "code",
   "execution_count": null,
   "id": "9717efaf-4ee7-408e-ab96-da6b81f9372f",
   "metadata": {},
   "outputs": [],
   "source": [
    "def plot_mds_digits(selected_digits, voltages, data, correct, n_outliers=10, alpha_actual=1, percent_size=0.02):\n",
    "    # Step 0: Filter for selected digits\n",
    "    voltages = np.array(voltages)\n",
    "    \n",
    "    indices = [i for i, label in enumerate(correct) if label in selected_digits]\n",
    "    filtered_voltages = voltages[np.ix_(selected_digits, indices)]\n",
    "    points = np.array(list(map(list, zip(*filtered_voltages))))\n",
    "\n",
    "    print(filtered_voltages.shape)\n",
    "    print(points.shape)\n",
    "\n",
    "    filtered_data = np.array([data[i] for i in indices])\n",
    "    filtered_labels = np.array([correct[i] for i in indices])\n",
    "\n",
    "    print(filtered_data.shape)\n",
    "    \n",
    "    # Step 1: Run MDS on voltages    \n",
    "    mds = MDS(n_components=2, random_state=42)\n",
    "    transformed_points = mds.fit_transform(points)\n",
    "\n",
    "    print(transformed_points.shape)\n",
    "    \n",
    "    # Step 2: Remove outliers\n",
    "    center = np.mean(transformed_points, axis=0)\n",
    "    distances = np.linalg.norm(transformed_points - center, axis=1)\n",
    "    outlier_indices = np.argsort(distances)[-len(selected_digits):]\n",
    "    mask = np.ones(len(transformed_points), dtype=bool)\n",
    "    mask[outlier_indices] = False\n",
    "    inlier_points = transformed_points[mask]\n",
    "    \n",
    "    # Step 3: Plot MNIST images with colored alpha\n",
    "    fig, ax = plt.subplots(figsize=(12, 10))\n",
    "\n",
    "    # Assign distinct colors for each digit\n",
    "    colors = [[1, 0, 0], [0, 1, 0], [0, 0, 1], [1, 1, 0], [0, 1, 1], [1, 0, 1], [1, 1, 1]]\n",
    "    \n",
    "    digit_colors = {}\n",
    "\n",
    "    for i, label in enumerate(selected_digits):\n",
    "        digit_colors[label] = colors[i]\n",
    "\n",
    "    x_bound = (inlier_points[:, 0].min(), inlier_points[:, 0].max())\n",
    "    y_bound = (inlier_points[:, 1].min(), inlier_points[:, 1].max())\n",
    "\n",
    "    image_size = (x_bound[1] + y_bound[1] - x_bound[0] - y_bound[0]) * percent_size / 2\n",
    "    \n",
    "    for i in np.where(mask)[0]:\n",
    "        alpha_mask = np.clip(filtered_data[i].reshape(28, 28) / 255.0, 0, 1)\n",
    "\n",
    "        label = filtered_labels[i]\n",
    "        color = np.array(digit_colors[label])\n",
    "        \n",
    "        # Create RGBA image\n",
    "        rgb_image = np.zeros((28, 28, 4))\n",
    "        for c in range(3):\n",
    "            rgb_image[..., c] = color[c]\n",
    "        rgb_image[..., 3] = alpha_mask * alpha_actual  # Alpha from pixel intensity\n",
    "\n",
    "        x, y = transformed_points[i]\n",
    "        ax.imshow(rgb_image, extent=(x - image_size, x + image_size, y - image_size, y + image_size), origin='upper')\n",
    "    \n",
    "    ax.set_xlim(x_bound[0] - image_size, x_bound[1] + image_size)\n",
    "    ax.set_ylim(y_bound[0] - image_size, y_bound[1] + image_size)\n",
    "    ax.set_facecolor('black')\n",
    "    fig.patch.set_facecolor('black')\n",
    "    plt.title(\"MDS Visualization of Digits: \" + \", \".join(map(str, selected_digits)))\n",
    "    plt.show()"
   ]
  },
  {
   "cell_type": "code",
   "execution_count": null,
   "id": "96a79235-4140-46b0-a8e1-ddb46b182588",
   "metadata": {},
   "outputs": [],
   "source": [
    "plot_mds_digits([2, 3, 4, 5, 7, 8, 9], voltages, data, correct, alpha_actual=0.5)"
   ]
  },
  {
   "cell_type": "code",
   "execution_count": null,
   "id": "bfb49cf3-94b0-4e78-882c-4935073fbeb8",
   "metadata": {},
   "outputs": [],
   "source": [
    "plot_mds_digits([3, 4], voltages, data, correct)"
   ]
  },
  {
   "cell_type": "code",
   "execution_count": null,
   "id": "4d8ab295-49c4-4fad-9d63-c8fc91ad8354",
   "metadata": {},
   "outputs": [],
   "source": [
    "plot_mds_digits([4, 7, 9], voltages, data, correct)"
   ]
  },
  {
   "cell_type": "code",
   "execution_count": null,
   "id": "087c2aca-b1a4-4290-a7b7-761395040a86",
   "metadata": {},
   "outputs": [],
   "source": []
  },
  {
   "cell_type": "code",
   "execution_count": null,
   "id": "77495ada-d24a-4e5b-bd23-ec3e5910579d",
   "metadata": {},
   "outputs": [],
   "source": []
  }
 ],
 "metadata": {
  "kernelspec": {
   "display_name": "Python 3 (ipykernel)",
   "language": "python",
   "name": "python3"
  },
  "language_info": {
   "codemirror_mode": {
    "name": "ipython",
    "version": 3
   },
   "file_extension": ".py",
   "mimetype": "text/x-python",
   "name": "python",
   "nbconvert_exporter": "python",
   "pygments_lexer": "ipython3",
   "version": "3.13.3"
  }
 },
 "nbformat": 4,
 "nbformat_minor": 5
}
