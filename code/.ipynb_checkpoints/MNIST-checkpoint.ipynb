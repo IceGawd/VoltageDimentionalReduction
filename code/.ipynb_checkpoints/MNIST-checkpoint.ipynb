{
 "cells": [
  {
   "cell_type": "code",
   "execution_count": 54,
   "id": "62291881-06f3-4d0e-a178-ed0853252e58",
   "metadata": {},
   "outputs": [],
   "source": [
    "import create_data\n",
    "import kmeans\n",
    "import voltage\n",
    "import os\n",
    "import importlib\n",
    "import time\n",
    "import bpf\n",
    "import numpy as np\n",
    "\n",
    "\n",
    "from sklearn.decomposition import PCA\n",
    "import matplotlib.pyplot as plt\n",
    "from sklearn.datasets import fetch_openml"
   ]
  },
  {
   "cell_type": "code",
   "execution_count": 55,
   "id": "499c0c1b-e9ba-4fd1-bd2e-0dc66a9a8b9b",
   "metadata": {},
   "outputs": [
    {
     "data": {
      "text/plain": [
       "<module 'bpf' from 'C:\\\\Users\\\\avigh\\\\Documents\\\\python\\\\VoltageDimentionalReduction\\\\code\\\\bpf.py'>"
      ]
     },
     "execution_count": 55,
     "metadata": {},
     "output_type": "execute_result"
    }
   ],
   "source": [
    "importlib.reload(create_data)\n",
    "importlib.reload(kmeans)\n",
    "importlib.reload(voltage)\n",
    "importlib.reload(bpf)"
   ]
  },
  {
   "cell_type": "code",
   "execution_count": 56,
   "id": "d47dd5d2-5c87-4dd4-a83f-c4e762825880",
   "metadata": {},
   "outputs": [
    {
     "name": "stdout",
     "output_type": "stream",
     "text": [
      "Loading Data...\n"
     ]
    }
   ],
   "source": [
    "print(\"Loading Data...\")\n",
    "mnist = fetch_openml('mnist_784', version=1, as_frame=False)\n",
    "X, y = mnist.data, mnist.target.astype(np.int64)\n",
    "\n",
    "# data = create_data.Data(np.array(X))"
   ]
  },
  {
   "cell_type": "code",
   "execution_count": 57,
   "id": "e6cd943a-a06e-4bbd-975f-687f12df8d24",
   "metadata": {},
   "outputs": [
    {
     "name": "stdout",
     "output_type": "stream",
     "text": [
      "Sorting and averaging...\n"
     ]
    }
   ],
   "source": [
    "subDivision = {}\n",
    "summation = {}\n",
    "count = {}\n",
    "\n",
    "print(\"Sorting and averaging...\")\n",
    "\n",
    "for xi, yi in zip(X, y):\n",
    "    if yi in summation:\n",
    "        subDivision[yi].append(np.array(xi))\n",
    "        summation[yi] += np.array(xi)\n",
    "        count[yi] += 1\n",
    "    else:\n",
    "        subDivision[yi] = [np.array(xi)]\n",
    "        summation[yi] = np.array(xi)\n",
    "        count[yi] = 1"
   ]
  },
  {
   "cell_type": "code",
   "execution_count": 58,
   "id": "0040fbcc-c94e-45a5-86af-6b6e396dc30d",
   "metadata": {},
   "outputs": [
    {
     "name": "stdout",
     "output_type": "stream",
     "text": [
      "Kmeans...\n",
      "0\n",
      "1\n",
      "2\n",
      "3\n",
      "4\n",
      "5\n",
      "6\n",
      "7\n",
      "8\n",
      "9\n",
      "100\n",
      "[2, 10, 29, 33, 41, 57, 65, 79, 86, 92]\n"
     ]
    }
   ],
   "source": [
    "print(\"Kmeans...\")\n",
    "\n",
    "k = 10\n",
    "landmarks = []\n",
    "data = []\n",
    "\n",
    "for yi in range(10):\n",
    "    print(yi)\n",
    "    \n",
    "    partitions = kmeans.Partitions(subDivision[yi])\n",
    "    partitions.k_means(k, seed=time.time())\n",
    "\n",
    "    data += list(partitions.centers)\n",
    "\n",
    "for yi in range(10):\n",
    "    landmarks.append(voltage.createLandmarkClosestTo(data, summation[yi] / count[yi], 1))\n",
    "\n",
    "data = create_data.Data(data)\n",
    "print(len(data))\n",
    "print([l.index for l in landmarks])"
   ]
  },
  {
   "cell_type": "code",
   "execution_count": 59,
   "id": "9134cd40-628f-4001-8800-b168efd6ab6e",
   "metadata": {},
   "outputs": [
    {
     "name": "stdout",
     "output_type": "stream",
     "text": [
      "<class 'create_data.Data'>\n",
      "True\n"
     ]
    }
   ],
   "source": [
    "print(type(data))\n",
    "print(isinstance(data, create_data.Data))"
   ]
  },
  {
   "cell_type": "code",
   "execution_count": 65,
   "id": "1cfdc8de-a004-4a02-a260-50fb907207b4",
   "metadata": {},
   "outputs": [
    {
     "name": "stdout",
     "output_type": "stream",
     "text": [
      "Parameter Finding...\n",
      "10.0 1.0 1.0\n",
      "1.0 403.4287934927351 0.1353352832366127\n",
      "5.8 -2.9\n",
      "10.0 1.0 1.0\n",
      "1.0 403.4287934927351 1.0\n",
      "5.8 -0.8\n",
      "10.0 1.0 1.0\n",
      "1.0 403.4287934927351 1.0\n",
      "5.8 -0.7\n",
      "10.0 1.0 1.0\n",
      "1.0 403.4287934927351 1.0\n",
      "5.6 -0.9\n",
      "10.0 1.0 1.0\n",
      "1.0 148.4131591025766 0.00012340980408667956\n",
      "5.0 -8.7\n",
      "10.0 1.0 1.0\n",
      "1.0 148.4131591025766 0.0009118819655545162\n",
      "5.0 -6.6\n",
      "10.0 1.0 1.0\n",
      "1.0 403.4287934927351 0.36787944117144233\n",
      "5.8 -1.4\n",
      "10.0 1.0 1.0\n",
      "1.0 148.4131591025766 0.00033546262790251185\n",
      "5.0 -7.6\n",
      "10.0 1.0 1.0\n",
      "1.0 148.4131591025766 0.0009118819655545162\n",
      "5.0 -6.9\n",
      "10.0 1.0 1.0\n",
      "1.0 148.4131591025766 0.0009118819655545162\n",
      "5.0 -7.1\n",
      "[5.8, 5.8, 5.8, 5.6, 5.0, 5.0, 5.8, 5.0, 5.0, 5.0]\n",
      "[-2.9, -0.8, -0.7, -0.9, -8.7, -6.6, -1.4, -7.6, -6.9, -7.1]\n"
     ]
    }
   ],
   "source": [
    "print(\"Parameter Finding...\")\n",
    "\n",
    "cs = []\n",
    "pgs = []\n",
    "\n",
    "for landmark in landmarks:\n",
    "    c, p_g = bpf.bestParameterFinder(voltage.gaussiankernel, [landmark], data, minBound=-10, maxBound=10, granularity=5, epsilon=0.5)\n",
    "    print(c, p_g)\n",
    "    cs.append(c)\n",
    "    pgs.append(p_g)\n",
    "\n",
    "print(cs)\n",
    "print(pgs)"
   ]
  },
  {
   "cell_type": "code",
   "execution_count": 81,
   "id": "d1176891-bd9a-4c29-a8c3-9f67cab2a25e",
   "metadata": {},
   "outputs": [
    {
     "name": "stdout",
     "output_type": "stream",
     "text": [
      "10.0 1.0 1.0\n"
     ]
    },
    {
     "name": "stderr",
     "output_type": "stream",
     "text": [
      "C:\\Users\\avigh\\Documents\\python\\VoltageDimentionalReduction\\code\\voltage.py:53: RuntimeWarning: invalid value encountered in divide\n",
      "  self.weights = self.weights / self.weights.sum(axis=1, keepdims=True)\n"
     ]
    },
    {
     "name": "stdout",
     "output_type": "stream",
     "text": [
      "1.0 148.4131591025766 7.38905609893065\n"
     ]
    }
   ],
   "source": [
    "c, p_g = bpf.bestParameterFinder(voltage.gaussiankernel, landmarks, data, minBound=-10, maxBound=10, granularity=10, epsilon=0.5)"
   ]
  },
  {
   "cell_type": "code",
   "execution_count": 76,
   "id": "84da591b-c664-4f92-b6f7-86d3ba91bb43",
   "metadata": {},
   "outputs": [],
   "source": [
    "voltages = []\n",
    "\n",
    "for index in range(0, len(landmarks)):\n",
    "    voltages.append(bpf.calculateFor(voltage.gaussiankernel, [landmarks[index]], data, None, c, p_g)[0])"
   ]
  },
  {
   "cell_type": "code",
   "execution_count": 77,
   "id": "cb8f42f8-2c7f-48e4-ab3c-c864eccc8db6",
   "metadata": {},
   "outputs": [
    {
     "data": {
      "text/plain": [
       "<Figure size 640x480 with 0 Axes>"
      ]
     },
     "metadata": {},
     "output_type": "display_data"
    },
    {
     "data": {
      "text/plain": [
       "<Figure size 800x600 with 0 Axes>"
      ]
     },
     "metadata": {},
     "output_type": "display_data"
    }
   ],
   "source": [
    "bpf.visualizations(voltages, \"../inputoutput/matplotfigures/MNIST\")"
   ]
  },
  {
   "cell_type": "code",
   "execution_count": 78,
   "id": "0d6f2c8a-89b7-4637-93a3-165975705e7c",
   "metadata": {},
   "outputs": [
    {
     "name": "stdout",
     "output_type": "stream",
     "text": [
      "[0.75338409 0.74629092 1.         0.87010838 0.67173954 0.49196305\n",
      " 0.77498425 0.35815064 0.80982144 0.76044875 0.06496034 0.06411438\n",
      " 0.06540869 0.06430698 0.06598393 0.06426961 0.0665408  0.06573244\n",
      " 0.06666764 0.06409634 0.0849129  0.08889716 0.08785613 0.08574866\n",
      " 0.09067113 0.08477866 0.08391616 0.0833728  0.08883816 0.08505143\n",
      " 0.09173383 0.08312572 0.09066025 0.09040979 0.09328053 0.08729709\n",
      " 0.09392747 0.09957048 0.09410927 0.08948644 0.07836448 0.07807493\n",
      " 0.07797557 0.07789474 0.07689486 0.07889277 0.07837647 0.07833076\n",
      " 0.07782727 0.08072288 0.09440887 0.08940976 0.09114184 0.10608041\n",
      " 0.09793284 0.09767667 0.09019595 0.08894525 0.08616133 0.09325247\n",
      " 0.1117115  0.10402786 0.1043541  0.1028581  0.10290671 0.10621325\n",
      " 0.10742443 0.10551976 0.10127887 0.1011217  0.07713164 0.07888964\n",
      " 0.07742435 0.07786571 0.0776816  0.07703363 0.07841899 0.07780121\n",
      " 0.07791546 0.07786776 0.08355355 0.08814459 0.08314313 0.08533108\n",
      " 0.08446323 0.09588282 0.08466957 0.08534057 0.08436315 0.08577876\n",
      " 0.07878483 0.07824277 0.07856071 0.07846168 0.07809558 0.07698933\n",
      " 0.07805541 0.07881672 0.07811018 0.07804367]\n"
     ]
    }
   ],
   "source": [
    "print(voltages[0])"
   ]
  },
  {
   "cell_type": "code",
   "execution_count": 79,
   "id": "ce8fe481-6753-4e82-bb86-535cc43ad5d8",
   "metadata": {},
   "outputs": [
    {
     "name": "stdout",
     "output_type": "stream",
     "text": [
      "[0.4260628  0.42689983 0.43605448 0.43250681 0.43846415 0.44506083\n",
      " 0.42668302 0.44911648 0.42718141 0.4344291  1.         0.92915143\n",
      " 0.91213    0.95850372 0.85659166 0.95198593 0.83438478 0.88050948\n",
      " 0.86069146 0.9402845  0.47595746 0.45658014 0.45912864 0.46777224\n",
      " 0.46059401 0.47896644 0.49039609 0.47148971 0.45753983 0.47315845\n",
      " 0.45565075 0.47637652 0.4621614  0.46541906 0.45589343 0.46386073\n",
      " 0.45936632 0.45956621 0.45579137 0.46033345 0.45559253 0.45273636\n",
      " 0.44606543 0.44937279 0.43750928 0.46523218 0.45118275 0.45187178\n",
      " 0.44548739 0.45334248 0.45360773 0.46441188 0.46329605 0.46129075\n",
      " 0.45521077 0.46468171 0.4770073  0.46972295 0.46097579 0.45791726\n",
      " 0.45414523 0.42590208 0.43501716 0.44305382 0.45875149 0.44627006\n",
      " 0.4419899  0.42342956 0.42059635 0.4212159  0.44891867 0.47816221\n",
      " 0.45285014 0.45733909 0.44713142 0.44860637 0.45845079 0.4521959\n",
      " 0.4521536  0.45944563 0.48413738 0.47015423 0.46099768 0.46576274\n",
      " 0.4667776  0.45528211 0.47140652 0.46622039 0.47179308 0.46841754\n",
      " 0.46558449 0.45254001 0.45179896 0.45297716 0.44992138 0.43805377\n",
      " 0.45722544 0.45119049 0.44622441 0.45400232]\n"
     ]
    }
   ],
   "source": [
    "print(voltages[1])"
   ]
  },
  {
   "cell_type": "code",
   "execution_count": 80,
   "id": "cc236425-b160-4bf0-a5f2-e3db6c22d8cc",
   "metadata": {},
   "outputs": [
    {
     "name": "stdout",
     "output_type": "stream",
     "text": [
      "[0 0 0 0 5 5 0 5 0 0 1 1 1 1 1 1 1 1 1 1 2 2 2 2 2 2 2 9 2 2 5 9 5 3 5 5 5\n",
      " 5 5 5 9 4 9 4 9 9 9 9 9 9 5 9 5 5 5 5 9 5 9 5 6 6 6 6 6 6 6 6 6 6 9 9 7 9\n",
      " 9 9 9 9 9 7 5 5 9 5 9 5 8 8 9 5 9 9 9 9 9 9 9 9 9 9]\n",
      "Incorrect predictions: 40/100\n",
      "Accuracy: 60.00%\n",
      "Error Rate: 40.00%\n"
     ]
    }
   ],
   "source": [
    "predicted = np.argmax(voltages, axis=0)\n",
    "correct = np.repeat(np.arange(10), k)\n",
    "\n",
    "num_incorrect = np.sum(predicted != correct)\n",
    "\n",
    "accuracy = np.mean(predicted == correct)\n",
    "error_rate = 1 - accuracy\n",
    "\n",
    "print(predicted)\n",
    "print(f\"Incorrect predictions: {num_incorrect}/100\")\n",
    "print(f\"Accuracy: {accuracy:.2%}\")\n",
    "print(f\"Error Rate: {error_rate:.2%}\")"
   ]
  },
  {
   "cell_type": "code",
   "execution_count": null,
   "id": "acc3f51a-a333-4e38-a2d6-326cc6834f9b",
   "metadata": {},
   "outputs": [],
   "source": []
  }
 ],
 "metadata": {
  "kernelspec": {
   "display_name": "Python 3 (ipykernel)",
   "language": "python",
   "name": "python3"
  },
  "language_info": {
   "codemirror_mode": {
    "name": "ipython",
    "version": 3
   },
   "file_extension": ".py",
   "mimetype": "text/x-python",
   "name": "python",
   "nbconvert_exporter": "python",
   "pygments_lexer": "ipython3",
   "version": "3.13.2"
  }
 },
 "nbformat": 4,
 "nbformat_minor": 5
}
