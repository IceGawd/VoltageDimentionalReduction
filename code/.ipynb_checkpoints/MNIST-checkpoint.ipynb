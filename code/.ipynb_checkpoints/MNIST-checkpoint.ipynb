{
 "cells": [
  {
   "cell_type": "code",
   "execution_count": 1,
   "id": "62291881-06f3-4d0e-a178-ed0853252e58",
   "metadata": {},
   "outputs": [],
   "source": [
    "import create_data\n",
    "import kmeans\n",
    "import voltage\n",
    "import os\n",
    "import importlib\n",
    "import time\n",
    "import bpf\n",
    "import numpy as np\n",
    "\n",
    "\n",
    "from sklearn.decomposition import PCA\n",
    "import matplotlib.pyplot as plt\n",
    "from sklearn.datasets import fetch_openml"
   ]
  },
  {
   "cell_type": "code",
   "execution_count": 2,
   "id": "499c0c1b-e9ba-4fd1-bd2e-0dc66a9a8b9b",
   "metadata": {},
   "outputs": [
    {
     "data": {
      "text/plain": [
       "<module 'bpf' from 'C:\\\\Users\\\\avigh\\\\Documents\\\\python\\\\VoltageDimentionalReduction\\\\code\\\\bpf.py'>"
      ]
     },
     "execution_count": 2,
     "metadata": {},
     "output_type": "execute_result"
    }
   ],
   "source": [
    "importlib.reload(create_data)\n",
    "importlib.reload(kmeans)\n",
    "importlib.reload(voltage)\n",
    "importlib.reload(bpf)"
   ]
  },
  {
   "cell_type": "code",
   "execution_count": 3,
   "id": "d47dd5d2-5c87-4dd4-a83f-c4e762825880",
   "metadata": {},
   "outputs": [
    {
     "name": "stdout",
     "output_type": "stream",
     "text": [
      "Loading Data...\n"
     ]
    }
   ],
   "source": [
    "print(\"Loading Data...\")\n",
    "mnist = fetch_openml('mnist_784', version=1, as_frame=False)\n",
    "X, y = mnist.data, mnist.target.astype(np.int64)\n",
    "\n",
    "# data = create_data.Data(np.array(X))"
   ]
  },
  {
   "cell_type": "code",
   "execution_count": 4,
   "id": "e6cd943a-a06e-4bbd-975f-687f12df8d24",
   "metadata": {},
   "outputs": [
    {
     "name": "stdout",
     "output_type": "stream",
     "text": [
      "Sorting and averaging...\n"
     ]
    }
   ],
   "source": [
    "subDivision = {}\n",
    "summation = {}\n",
    "count = {}\n",
    "\n",
    "print(\"Sorting and averaging...\")\n",
    "\n",
    "for xi, yi in zip(X, y):\n",
    "    if yi in summation:\n",
    "        subDivision[yi].append(np.array(xi))\n",
    "        summation[yi] += np.array(xi)\n",
    "        count[yi] += 1\n",
    "    else:\n",
    "        subDivision[yi] = [np.array(xi)]\n",
    "        summation[yi] = np.array(xi)\n",
    "        count[yi] = 1"
   ]
  },
  {
   "cell_type": "code",
   "execution_count": 5,
   "id": "0040fbcc-c94e-45a5-86af-6b6e396dc30d",
   "metadata": {},
   "outputs": [
    {
     "name": "stdout",
     "output_type": "stream",
     "text": [
      "Kmeans...\n",
      "0\n",
      "1\n",
      "2\n",
      "3\n",
      "4\n",
      "5\n",
      "6\n",
      "7\n",
      "8\n",
      "9\n",
      "100\n",
      "[4, 19, 24, 37, 46, 59, 63, 72, 82, 93]\n"
     ]
    }
   ],
   "source": [
    "print(\"Kmeans...\")\n",
    "\n",
    "k = 10\n",
    "landmarks = []\n",
    "data = []\n",
    "\n",
    "for yi in range(10):\n",
    "    print(yi)\n",
    "    \n",
    "    partitions = kmeans.Partitions(subDivision[yi])\n",
    "    partitions.k_means(k, seed=time.time())\n",
    "\n",
    "    data += list(partitions.centers)\n",
    "\n",
    "for yi in range(10):\n",
    "    landmarks.append(voltage.createLandmarkClosestTo(data, summation[yi] / count[yi], 1))\n",
    "\n",
    "data = create_data.Data(data)\n",
    "print(len(data))\n",
    "print([l.index for l in landmarks])"
   ]
  },
  {
   "cell_type": "code",
   "execution_count": 6,
   "id": "9134cd40-628f-4001-8800-b168efd6ab6e",
   "metadata": {},
   "outputs": [
    {
     "name": "stdout",
     "output_type": "stream",
     "text": [
      "<class 'create_data.Data'>\n",
      "True\n"
     ]
    }
   ],
   "source": [
    "print(type(data))\n",
    "print(isinstance(data, create_data.Data))"
   ]
  },
  {
   "cell_type": "code",
   "execution_count": 17,
   "id": "1cfdc8de-a004-4a02-a260-50fb907207b4",
   "metadata": {},
   "outputs": [
    {
     "name": "stdout",
     "output_type": "stream",
     "text": [
      "Parameter Finding...\n",
      "2.0 148.4131591025766 148.4131591025766\n",
      "1.0 403.4287934927351 54.598150033144236\n",
      "6.0 3.5\n",
      "2.0 148.4131591025766 148.4131591025766\n",
      "1.0 403.4287934927351 54.598150033144236\n",
      "6.0 3.5\n",
      "2.0 148.4131591025766 148.4131591025766\n",
      "1.0 403.4287934927351 54.598150033144236\n",
      "6.0 3.5\n",
      "2.0 148.4131591025766 148.4131591025766\n",
      "1.0 403.4287934927351 54.598150033144236\n",
      "6.0 3.5\n",
      "2.0 148.4131591025766 148.4131591025766\n",
      "1.0 403.4287934927351 54.598150033144236\n",
      "6.0 3.5\n",
      "2.0 148.4131591025766 148.4131591025766\n",
      "1.0 403.4287934927351 54.598150033144236\n",
      "6.0 3.5\n",
      "2.0 148.4131591025766 148.4131591025766\n",
      "1.0 148.4131591025766 54.598150033144236\n",
      "5.5 3.5\n",
      "2.0 148.4131591025766 148.4131591025766\n",
      "1.0 403.4287934927351 54.598150033144236\n",
      "6.0 3.5\n",
      "2.0 148.4131591025766 148.4131591025766\n",
      "1.0 148.4131591025766 54.598150033144236\n",
      "5.0 3.5\n",
      "2.0 148.4131591025766 148.4131591025766\n",
      "1.0 148.4131591025766 54.598150033144236\n",
      "5.5 3.5\n",
      "[6.0, 6.0, 6.0, 6.0, 6.0, 6.0, 5.5, 6.0, 5.0, 5.5]\n",
      "[3.5, 3.5, 3.5, 3.5, 3.5, 3.5, 3.5, 3.5, 3.5, 3.5]\n"
     ]
    }
   ],
   "source": [
    "print(\"Parameter Finding...\")\n",
    "\n",
    "cs = []\n",
    "pgs = []\n",
    "\n",
    "for landmark in landmarks:\n",
    "    c, p_g = bpf.bestParameterFinder(voltage.gaussiankernel, [landmark], data, minBound=3, maxBound=7, granularity=2, epsilon=0.5)\n",
    "    print(c, p_g)\n",
    "    cs.append(c)\n",
    "    pgs.append(p_g)\n",
    "\n",
    "print(cs)\n",
    "print(pgs)"
   ]
  },
  {
   "cell_type": "code",
   "execution_count": 8,
   "id": "84da591b-c664-4f92-b6f7-86d3ba91bb43",
   "metadata": {},
   "outputs": [],
   "source": [
    "voltages = []\n",
    "\n",
    "for index in range(0, len(landmarks)):\n",
    "    voltages.append(bpf.calculateFor(voltage.gaussiankernel, [landmarks[index]], data, None, cs[index], pgs[index])[0])"
   ]
  },
  {
   "cell_type": "code",
   "execution_count": 9,
   "id": "cb8f42f8-2c7f-48e4-ab3c-c864eccc8db6",
   "metadata": {},
   "outputs": [
    {
     "data": {
      "text/plain": [
       "<Figure size 640x480 with 0 Axes>"
      ]
     },
     "metadata": {},
     "output_type": "display_data"
    },
    {
     "data": {
      "text/plain": [
       "<Figure size 800x600 with 0 Axes>"
      ]
     },
     "metadata": {},
     "output_type": "display_data"
    }
   ],
   "source": [
    "bpf.visualizations(voltages, \"../inputoutput/matplotfigures/MNIST\")"
   ]
  },
  {
   "cell_type": "code",
   "execution_count": 10,
   "id": "0d6f2c8a-89b7-4637-93a3-165975705e7c",
   "metadata": {},
   "outputs": [
    {
     "name": "stdout",
     "output_type": "stream",
     "text": [
      "[2.74574099e-01 1.68091116e-01 1.65627194e-01 1.63889508e-01\n",
      " 1.00000000e+00 3.33999822e-01 3.41119942e-01 8.16551743e-01\n",
      " 3.40913445e-01 1.36982799e-01 5.52757606e-08 4.18626342e-08\n",
      " 5.39742787e-08 1.56820927e-07 5.23663773e-08 4.10215519e-08\n",
      " 1.81269465e-07 7.31616774e-08 9.01554842e-08 3.77951751e-08\n",
      " 2.28349394e-04 4.22347401e-05 4.64367256e-05 4.62781853e-05\n",
      " 1.05137227e-04 3.71492135e-05 3.97426433e-05 5.23140749e-05\n",
      " 4.17382938e-05 4.15315289e-05 1.32231591e-04 2.39139528e-04\n",
      " 2.18987036e-04 1.49798392e-04 1.29264814e-04 2.50437410e-04\n",
      " 3.00959846e-04 2.43518992e-04 1.24226988e-04 3.72510401e-04\n",
      " 2.20652548e-05 5.19314850e-06 1.17914327e-05 5.90487450e-06\n",
      " 7.22103515e-06 1.44330230e-05 2.29227041e-05 1.99327836e-06\n",
      " 8.38210257e-06 5.58435726e-06 1.78564198e-03 2.33538651e-04\n",
      " 3.80928799e-04 2.30161350e-04 5.18236976e-04 3.26576763e-04\n",
      " 3.18344966e-04 3.51456724e-04 2.75390956e-04 4.33401856e-04\n",
      " 4.06798812e-03 1.25089474e-03 5.99290448e-04 9.03182825e-04\n",
      " 8.68864539e-04 1.09255009e-03 1.04011448e-03 8.87131649e-04\n",
      " 2.46345128e-03 6.90144930e-04 4.28868025e-06 1.72133163e-05\n",
      " 1.01562296e-05 3.69181200e-06 7.69011452e-06 8.08856143e-06\n",
      " 4.22367032e-06 3.44932517e-06 9.16473174e-06 8.99930602e-06\n",
      " 8.00368124e-05 8.45774290e-05 9.62486293e-05 8.52960086e-05\n",
      " 1.48235540e-04 5.98583400e-05 1.25664199e-04 6.24690612e-05\n",
      " 1.08474027e-04 3.56198042e-04 8.22242771e-06 1.54360853e-05\n",
      " 2.01730870e-06 1.30411228e-05 6.39672625e-06 6.50708415e-06\n",
      " 4.55584055e-06 1.25914018e-05 9.78378219e-06 1.28316379e-05]\n"
     ]
    }
   ],
   "source": [
    "print(voltages[0])"
   ]
  },
  {
   "cell_type": "code",
   "execution_count": 11,
   "id": "ce8fe481-6753-4e82-bb86-535cc43ad5d8",
   "metadata": {},
   "outputs": [
    {
     "name": "stdout",
     "output_type": "stream",
     "text": [
      "[1.48199893e-05 5.20417555e-06 5.52693744e-06 5.13080990e-06\n",
      " 2.70300948e-05 1.41430515e-05 1.55665668e-04 2.33410055e-05\n",
      " 1.11173947e-04 4.38704629e-06 2.91367825e-01 6.92814357e-01\n",
      " 3.50373512e-01 2.10190304e-01 4.19915289e-01 5.22877628e-01\n",
      " 3.15183290e-01 3.40700077e-01 2.52804197e-01 1.00000000e+00\n",
      " 2.21281304e-04 1.09893375e-03 8.74237996e-05 9.74475557e-04\n",
      " 2.24027400e-04 1.38585827e-03 4.53978674e-04 1.19034395e-03\n",
      " 7.45484420e-05 1.86151871e-03 1.00749493e-03 1.45604111e-04\n",
      " 2.46787394e-04 2.98987967e-04 3.74364758e-04 1.94120165e-04\n",
      " 2.20517037e-04 4.27154754e-04 3.00616951e-04 1.44853371e-04\n",
      " 1.40387937e-04 2.43831969e-04 1.75580702e-04 4.79613113e-05\n",
      " 3.20710364e-04 7.02890619e-05 1.07206877e-04 8.61291670e-06\n",
      " 1.97230617e-04 1.53660416e-04 3.99080231e-04 4.18543500e-04\n",
      " 2.69914668e-04 4.83002011e-04 1.39830417e-04 3.95908890e-04\n",
      " 1.08517721e-04 1.80558926e-04 2.01849394e-04 6.79244509e-04\n",
      " 7.63610193e-05 1.13282989e-04 2.00440717e-04 1.56457938e-04\n",
      " 3.81139528e-05 5.53865053e-05 4.45314076e-05 1.30074285e-04\n",
      " 7.34071697e-05 2.37516589e-04 3.80599224e-04 3.14520362e-04\n",
      " 2.77411226e-04 1.91298039e-04 1.46356204e-04 2.02835699e-04\n",
      " 2.05156350e-04 2.52310774e-04 1.77808001e-04 1.36237797e-03\n",
      " 8.96010811e-04 1.55418072e-03 9.07768854e-04 6.87253265e-04\n",
      " 6.44337813e-04 6.44744720e-04 7.48565154e-04 8.07941013e-04\n",
      " 5.57637928e-04 1.09142357e-04 4.65367232e-04 1.32000849e-04\n",
      " 8.65519614e-06 1.20039890e-04 1.66504485e-04 5.26474460e-05\n",
      " 3.06336514e-04 2.26693981e-04 1.28534874e-04 4.09811261e-05]\n"
     ]
    }
   ],
   "source": [
    "print(voltages[1])"
   ]
  }
 ],
 "metadata": {
  "kernelspec": {
   "display_name": "Python 3 (ipykernel)",
   "language": "python",
   "name": "python3"
  },
  "language_info": {
   "codemirror_mode": {
    "name": "ipython",
    "version": 3
   },
   "file_extension": ".py",
   "mimetype": "text/x-python",
   "name": "python",
   "nbconvert_exporter": "python",
   "pygments_lexer": "ipython3",
   "version": "3.13.2"
  }
 },
 "nbformat": 4,
 "nbformat_minor": 5
}
