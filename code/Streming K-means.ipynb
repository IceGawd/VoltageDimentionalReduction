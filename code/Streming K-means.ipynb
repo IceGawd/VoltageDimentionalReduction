{
 "cells": [
  {
   "cell_type": "code",
   "execution_count": null,
   "id": "4e545180",
   "metadata": {},
   "outputs": [],
   "source": []
  },
  {
   "cell_type": "code",
   "execution_count": 26,
   "id": "10bd35c8",
   "metadata": {},
   "outputs": [],
   "source": [
    "import kagglehub\n",
    "from time import time\n",
    "import numpy as np\n",
    "\n",
    "num_samples=1000\n",
    "dim=300\n",
    "samples = np.random.randn(num_samples, dim)\n",
    "    \n",
    "# Normalize the samples to lie on the surface of the unit sphere\n",
    "norms = np.linalg.norm(samples, axis=1)[:, np.newaxis]  # Compute the norm of each sample\n",
    "centroids = samples / norms  # Normalize to unit sphere\n",
    "    "
   ]
  },
  {
   "cell_type": "code",
   "execution_count": 27,
   "id": "24c20269",
   "metadata": {},
   "outputs": [
    {
     "name": "stdout",
     "output_type": "stream",
     "text": [
      "Warning: Looks like you're using an outdated `kagglehub` version (installed: 0.3.8), please consider upgrading to the latest version (0.3.12).\n",
      "10001\n",
      "0.8326609134674072\n"
     ]
    }
   ],
   "source": [
    "t1=time()\n",
    "path = kagglehub.dataset_download(\"thanakomsn/glove6b300dtxt\")\n",
    "glove_path = path + \"/glove.6B.300d.txt\" \n",
    "with open(glove_path,'r') as file:\n",
    "    i=0\n",
    "    L=[]; word=[]\n",
    "    for line in file:\n",
    "        X=line.split()\n",
    "        word.append(X[0])\n",
    "        vec=(np.array([float(x) for x in X[1:]]))\n",
    "        vec=vec/np.sqrt(np.sum(vec**2))\n",
    "        L.append(vec)\n",
    "        i+=1\n",
    "        print(i,end='\\r')\n",
    "        if i>10000:\n",
    "            break\n",
    "t2=time()\n",
    "print()\n",
    "print(t2-t1)"
   ]
  },
  {
   "cell_type": "code",
   "execution_count": 28,
   "id": "9d8d4703",
   "metadata": {},
   "outputs": [
    {
     "data": {
      "text/plain": [
       "(10001, 300)"
      ]
     },
     "execution_count": 28,
     "metadata": {},
     "output_type": "execute_result"
    }
   ],
   "source": [
    "word=np.array(word)\n",
    "Vecs=np.stack(L)\n",
    "Vecs.shape"
   ]
  },
  {
   "cell_type": "code",
   "execution_count": 29,
   "id": "39c8fe0e",
   "metadata": {},
   "outputs": [
    {
     "data": {
      "text/plain": [
       "array(['23-year', 'communique', 'hawk', 'necessity', 'petty',\n",
       "       'stretching', 'taxpayer', 'resistant', 'quinn', 'persecution'],\n",
       "      dtype='<U18')"
      ]
     },
     "execution_count": 29,
     "metadata": {},
     "output_type": "execute_result"
    }
   ],
   "source": [
    "word[-10:]"
   ]
  },
  {
   "cell_type": "code",
   "execution_count": 30,
   "id": "52a9c444",
   "metadata": {},
   "outputs": [
    {
     "data": {
      "text/plain": [
       "array([1., 1., 1., 1., 1., 1., 1., 1., 1., 1., 1., 1., 1., 1., 1., 1., 1.,\n",
       "       1., 1., 1., 1., 1., 1., 1., 1., 1., 1., 1., 1., 1., 1., 1., 1., 1.,\n",
       "       1., 1., 1., 1., 1., 1., 1., 1., 1., 1., 1., 1., 1., 1., 1., 1., 1.,\n",
       "       1., 1., 1., 1., 1., 1., 1., 1., 1., 1., 1., 1., 1., 1., 1., 1., 1.,\n",
       "       1., 1., 1., 1., 1., 1., 1., 1., 1., 1., 1., 1., 1., 1., 1., 1., 1.,\n",
       "       1., 1., 1., 1., 1., 1., 1., 1., 1., 1., 1., 1., 1., 1., 1., 1., 1.,\n",
       "       1., 1., 1., 1., 1., 1., 1., 1., 1., 1., 1., 1., 1., 1., 1., 1., 1.,\n",
       "       1., 1., 1., 1., 1., 1., 1., 1., 1., 1., 1., 1., 1., 1., 1., 1., 1.,\n",
       "       1., 1., 1., 1., 1., 1., 1., 1., 1., 1., 1., 1., 1., 1., 1., 1., 1.,\n",
       "       1., 1., 1., 1., 1., 1., 1., 1., 1., 1., 1., 1., 1., 1., 1., 1., 1.,\n",
       "       1., 1., 1., 1., 1., 1., 1., 1., 1., 1., 1., 1., 1., 1., 1., 1., 1.,\n",
       "       1., 1., 1., 1., 1., 1., 1., 1., 1., 1., 1., 1., 1., 1., 1., 1., 1.,\n",
       "       1., 1., 1., 1., 1., 1., 1., 1., 1., 1., 1., 1., 1., 1., 1., 1., 1.,\n",
       "       1., 1., 1., 1., 1., 1., 1., 1., 1., 1., 1., 1., 1., 1., 1., 1., 1.,\n",
       "       1., 1., 1., 1., 1., 1., 1., 1., 1., 1., 1., 1., 1., 1., 1., 1., 1.,\n",
       "       1., 1., 1., 1., 1., 1., 1., 1., 1., 1., 1., 1., 1., 1., 1., 1., 1.,\n",
       "       1., 1., 1., 1., 1., 1., 1., 1., 1., 1., 1., 1., 1., 1., 1., 1., 1.,\n",
       "       1., 1., 1., 1., 1., 1., 1., 1., 1., 1., 1., 1., 1., 1., 1., 1., 1.,\n",
       "       1., 1., 1., 1., 1., 1., 1., 1., 1., 1., 1., 1., 1., 1., 1., 1., 1.,\n",
       "       1., 1., 1., 1., 1., 1., 1., 1., 1., 1., 1., 1., 1., 1., 1., 1., 1.,\n",
       "       1., 1., 1., 1., 1., 1., 1., 1., 1., 1., 1., 1., 1., 1., 1., 1., 1.,\n",
       "       1., 1., 1., 1., 1., 1., 1., 1., 1., 1., 1., 1., 1., 1., 1., 1., 1.,\n",
       "       1., 1., 1., 1., 1., 1., 1., 1., 1., 1., 1., 1., 1., 1., 1., 1., 1.,\n",
       "       1., 1., 1., 1., 1., 1., 1., 1., 1., 1., 1., 1., 1., 1., 1., 1., 1.,\n",
       "       1., 1., 1., 1., 1., 1., 1., 1., 1., 1., 1., 1., 1., 1., 1., 1., 1.,\n",
       "       1., 1., 1., 1., 1., 1., 1., 1., 1., 1., 1., 1., 1., 1., 1., 1., 1.,\n",
       "       1., 1., 1., 1., 1., 1., 1., 1., 1., 1., 1., 1., 1., 1., 1., 1., 1.,\n",
       "       1., 1., 1., 1., 1., 1., 1., 1., 1., 1., 1., 1., 1., 1., 1., 1., 1.,\n",
       "       1., 1., 1., 1., 1., 1., 1., 1., 1., 1., 1., 1., 1., 1., 1., 1., 1.,\n",
       "       1., 1., 1., 1., 1., 1., 1., 1., 1., 1., 1., 1., 1., 1., 1., 1., 1.,\n",
       "       1., 1., 1., 1., 1., 1., 1., 1., 1., 1., 1., 1., 1., 1., 1., 1., 1.,\n",
       "       1., 1., 1., 1., 1., 1., 1., 1., 1., 1., 1., 1., 1., 1., 1., 1., 1.,\n",
       "       1., 1., 1., 1., 1., 1., 1., 1., 1., 1., 1., 1., 1., 1., 1., 1., 1.,\n",
       "       1., 1., 1., 1., 1., 1., 1., 1., 1., 1., 1., 1., 1., 1., 1., 1., 1.,\n",
       "       1., 1., 1., 1., 1., 1., 1., 1., 1., 1., 1., 1., 1., 1., 1., 1., 1.,\n",
       "       1., 1., 1., 1., 1., 1., 1., 1., 1., 1., 1., 1., 1., 1., 1., 1., 1.,\n",
       "       1., 1., 1., 1., 1., 1., 1., 1., 1., 1., 1., 1., 1., 1., 1., 1., 1.,\n",
       "       1., 1., 1., 1., 1., 1., 1., 1., 1., 1., 1., 1., 1., 1., 1., 1., 1.,\n",
       "       1., 1., 1., 1., 1., 1., 1., 1., 1., 1., 1., 1., 1., 1., 1., 1., 1.,\n",
       "       1., 1., 1., 1., 1., 1., 1., 1., 1., 1., 1., 1., 1., 1., 1., 1., 1.,\n",
       "       1., 1., 1., 1., 1., 1., 1., 1., 1., 1., 1., 1., 1., 1., 1., 1., 1.,\n",
       "       1., 1., 1., 1., 1., 1., 1., 1., 1., 1., 1., 1., 1., 1., 1., 1., 1.,\n",
       "       1., 1., 1., 1., 1., 1., 1., 1., 1., 1., 1., 1., 1., 1., 1., 1., 1.,\n",
       "       1., 1., 1., 1., 1., 1., 1., 1., 1., 1., 1., 1., 1., 1., 1., 1., 1.,\n",
       "       1., 1., 1., 1., 1., 1., 1., 1., 1., 1., 1., 1., 1., 1., 1., 1., 1.,\n",
       "       1., 1., 1., 1., 1., 1., 1., 1., 1., 1., 1., 1., 1., 1., 1., 1., 1.,\n",
       "       1., 1., 1., 1., 1., 1., 1., 1., 1., 1., 1., 1., 1., 1., 1., 1., 1.,\n",
       "       1., 1., 1., 1., 1., 1., 1., 1., 1., 1., 1., 1., 1., 1., 1., 1., 1.,\n",
       "       1., 1., 1., 1., 1., 1., 1., 1., 1., 1., 1., 1., 1., 1., 1., 1., 1.,\n",
       "       1., 1., 1., 1., 1., 1., 1., 1., 1., 1., 1., 1., 1., 1., 1., 1., 1.,\n",
       "       1., 1., 1., 1., 1., 1., 1., 1., 1., 1., 1., 1., 1., 1., 1., 1., 1.,\n",
       "       1., 1., 1., 1., 1., 1., 1., 1., 1., 1., 1., 1., 1., 1., 1., 1., 1.,\n",
       "       1., 1., 1., 1., 1., 1., 1., 1., 1., 1., 1., 1., 1., 1., 1., 1., 1.,\n",
       "       1., 1., 1., 1., 1., 1., 1., 1., 1., 1., 1., 1., 1., 1., 1., 1., 1.,\n",
       "       1., 1., 1., 1., 1., 1., 1., 1., 1., 1., 1., 1., 1., 1., 1., 1., 1.,\n",
       "       1., 1., 1., 1., 1., 1., 1., 1., 1., 1., 1., 1., 1., 1., 1., 1., 1.,\n",
       "       1., 1., 1., 1., 1., 1., 1., 1., 1., 1., 1., 1., 1., 1., 1., 1., 1.,\n",
       "       1., 1., 1., 1., 1., 1., 1., 1., 1., 1., 1., 1., 1., 1., 1., 1., 1.,\n",
       "       1., 1., 1., 1., 1., 1., 1., 1., 1., 1., 1., 1., 1., 1.])"
      ]
     },
     "execution_count": 30,
     "metadata": {},
     "output_type": "execute_result"
    }
   ],
   "source": [
    "np.sqrt(np.sum(centroids**2,axis=1))"
   ]
  },
  {
   "cell_type": "code",
   "execution_count": 31,
   "id": "e5c4d159",
   "metadata": {},
   "outputs": [
    {
     "data": {
      "text/plain": [
       "(1000, 300)"
      ]
     },
     "execution_count": 31,
     "metadata": {},
     "output_type": "execute_result"
    }
   ],
   "source": [
    "centroids.shape"
   ]
  },
  {
   "cell_type": "code",
   "execution_count": 71,
   "id": "bf5d11c4",
   "metadata": {},
   "outputs": [],
   "source": [
    "import faiss\n",
    "\n",
    "d = 300  # Dimensionality\n",
    "n = 1000  # Number of points\n",
    "X = Vecs[:1000,:].astype('float32')\n",
    "\n",
    "# Normalize the vectors to unit length (this converts cosine distance to L2 distance)\n",
    "faiss.normalize_L2(X)\n",
    "\n",
    "# Create the FAISS index (L2 distance)\n",
    "index = faiss.IndexFlatL2(d)\n",
    "\n",
    "# Add normalized points to the index\n",
    "index.add(X)"
   ]
  },
  {
   "cell_type": "code",
   "execution_count": 101,
   "id": "04700727",
   "metadata": {
    "scrolled": true
   },
   "outputs": [
    {
     "name": "stdout",
     "output_type": "stream",
     "text": [
      "CPU times: user 520 ms, sys: 24 ms, total: 544 ms\n",
      "Wall time: 517 ms\n"
     ]
    }
   ],
   "source": [
    "%%time\n",
    "# Query for the nearest neighbor to a new point\n",
    "start=1000\n",
    "query_points = Vecs[start:,:].astype('float32')\n",
    "faiss.normalize_L2(query_points)  # Normalize the query point\n",
    "distances, indices = index.search(query_points, k=1000)\n",
    "\n",
    "#print(f\"Nearest neighbor index: {indices}\")\n",
    "#print(f\"Cosine distance: {distances}\")"
   ]
  },
  {
   "cell_type": "code",
   "execution_count": 102,
   "id": "e1dd5df9",
   "metadata": {},
   "outputs": [
    {
     "data": {
      "text/plain": [
       "((9001, 1000), (9001, 1000))"
      ]
     },
     "execution_count": 102,
     "metadata": {},
     "output_type": "execute_result"
    }
   ],
   "source": [
    "indices.shape, distances.shape"
   ]
  },
  {
   "cell_type": "code",
   "execution_count": 103,
   "id": "cea03ea1",
   "metadata": {
    "collapsed": true
   },
   "outputs": [
    {
     "data": {
      "text/plain": [
       "array([0.57585347, 0.6099658 , 0.7807189 , 0.82251346, 0.8371434 ,\n",
       "       0.84925044, 0.8497627 , 0.8583375 , 0.87826836, 0.8842126 ,\n",
       "       0.88804924, 0.8929106 , 0.89317477, 0.8942623 , 0.8986716 ,\n",
       "       0.9043404 , 0.904642  , 0.90480053, 0.9153416 , 0.9166148 ,\n",
       "       0.92663836, 0.92893124, 0.942099  , 0.94355655, 0.9537209 ,\n",
       "       0.95531225, 0.9562298 , 0.95956576, 0.96055627, 0.9608033 ,\n",
       "       0.96704423, 0.968755  , 0.97036576, 0.97143054, 0.9732064 ,\n",
       "       0.9757196 , 0.98008585, 0.98040986, 0.98774445, 0.988647  ,\n",
       "       0.99242115, 0.99420595, 0.99578846, 0.9963814 , 0.9979712 ,\n",
       "       1.0001988 , 1.001221  , 1.0141791 , 1.0157914 , 1.019559  ,\n",
       "       1.0214026 , 1.0241723 , 1.0241989 , 1.0260794 , 1.0268705 ,\n",
       "       1.0284421 , 1.0291047 , 1.0297287 , 1.0303369 , 1.0315349 ,\n",
       "       1.0316101 , 1.0324302 , 1.0328342 , 1.033061  , 1.0337443 ,\n",
       "       1.0343864 , 1.0344102 , 1.0371414 , 1.0445862 , 1.048064  ,\n",
       "       1.0532314 , 1.0538654 , 1.05536   , 1.0587549 , 1.062523  ,\n",
       "       1.0635495 , 1.0651109 , 1.065208  , 1.0659187 , 1.0664818 ,\n",
       "       1.0679935 , 1.0714704 , 1.0724435 , 1.0732241 , 1.0749831 ,\n",
       "       1.0830344 , 1.0834725 , 1.085608  , 1.0860813 , 1.0868423 ,\n",
       "       1.0876542 , 1.0880432 , 1.0880723 , 1.088469  , 1.0897439 ,\n",
       "       1.0904298 , 1.0944014 , 1.0979896 , 1.0993079 , 1.1001551 ,\n",
       "       1.1041877 , 1.1042225 , 1.1104932 , 1.1125195 , 1.1129638 ,\n",
       "       1.1138592 , 1.1140177 , 1.1155429 , 1.1176122 , 1.1177806 ,\n",
       "       1.1179602 , 1.1233351 , 1.1245663 , 1.1253111 , 1.1268069 ,\n",
       "       1.1276789 , 1.1278502 , 1.1299047 , 1.1304388 , 1.132731  ,\n",
       "       1.1363424 , 1.1376622 , 1.1377083 , 1.1377869 , 1.1380665 ,\n",
       "       1.138079  , 1.1388524 , 1.1401019 , 1.1418043 , 1.1451142 ,\n",
       "       1.1463118 , 1.1473217 , 1.1522936 , 1.1532009 , 1.1538227 ,\n",
       "       1.1542088 , 1.1634653 , 1.1677458 , 1.1684206 , 1.1685395 ,\n",
       "       1.1698576 , 1.1713694 , 1.172488  , 1.1728565 , 1.1742172 ,\n",
       "       1.1742522 , 1.174257  , 1.1765728 , 1.1786478 , 1.180216  ,\n",
       "       1.1807001 , 1.1817199 , 1.1829474 , 1.1831564 , 1.1831613 ,\n",
       "       1.1840582 , 1.1856978 , 1.1878281 , 1.1888974 , 1.190179  ,\n",
       "       1.1904423 , 1.1917481 , 1.1991785 , 1.2003125 , 1.2021496 ,\n",
       "       1.2028944 , 1.2039568 , 1.2052274 , 1.2057164 , 1.2064073 ,\n",
       "       1.2072968 , 1.2080499 , 1.2146121 , 1.2150931 , 1.2152689 ,\n",
       "       1.2160487 , 1.2162511 , 1.2181687 , 1.2186286 , 1.2195334 ,\n",
       "       1.2197148 , 1.2202106 , 1.2208309 , 1.222603  , 1.2244987 ,\n",
       "       1.2254589 , 1.22596   , 1.2270615 , 1.230928  , 1.2313735 ,\n",
       "       1.2338855 , 1.2347294 , 1.2350231 , 1.2355568 , 1.2357073 ,\n",
       "       1.2358103 , 1.236377  , 1.2367909 , 1.2371464 , 1.237727  ,\n",
       "       1.2402153 , 1.2402723 , 1.2411549 , 1.2418709 , 1.242032  ,\n",
       "       1.2436724 , 1.2440143 , 1.244108  , 1.245425  , 1.2463505 ,\n",
       "       1.2486442 , 1.249526  , 1.2510235 , 1.2525309 , 1.2525322 ,\n",
       "       1.2554345 , 1.2567248 , 1.2576077 , 1.2588937 , 1.2599709 ,\n",
       "       1.2606589 , 1.261523  , 1.262962  , 1.2635071 , 1.2635266 ,\n",
       "       1.263855  , 1.2644091 , 1.2651769 , 1.266067  , 1.266156  ,\n",
       "       1.267339  , 1.2685313 , 1.2701697 , 1.2728276 , 1.2729547 ,\n",
       "       1.2753386 , 1.2762372 , 1.278023  , 1.2782195 , 1.2802372 ,\n",
       "       1.2820579 , 1.2830553 , 1.287526  , 1.2875438 , 1.290431  ,\n",
       "       1.2912806 , 1.2915969 , 1.291795  , 1.2925998 , 1.2928272 ,\n",
       "       1.2948947 , 1.2952135 , 1.2973057 , 1.2988161 , 1.300513  ,\n",
       "       1.3005676 , 1.3008062 , 1.302088  , 1.3034887 , 1.3063673 ,\n",
       "       1.3094301 , 1.3105114 , 1.3117495 , 1.3117764 , 1.3120067 ,\n",
       "       1.312205  , 1.3123466 , 1.3135515 , 1.3141775 , 1.3149822 ,\n",
       "       1.3160803 , 1.3161514 , 1.3164634 , 1.3165374 , 1.3166368 ,\n",
       "       1.3166561 , 1.317076  , 1.3171177 , 1.3171794 , 1.3176622 ,\n",
       "       1.3184651 , 1.3193333 , 1.3211439 , 1.321568  , 1.3225435 ,\n",
       "       1.3229017 , 1.3239706 , 1.3244222 , 1.3250554 , 1.3255198 ,\n",
       "       1.3255379 , 1.3263458 , 1.3270769 , 1.3279723 , 1.3290515 ,\n",
       "       1.3295729 , 1.3311844 , 1.3312929 , 1.3313823 , 1.332463  ,\n",
       "       1.3333933 , 1.3342776 , 1.3348026 , 1.3375626 , 1.3379412 ,\n",
       "       1.3380438 , 1.3384428 , 1.33986   , 1.3407929 , 1.3412344 ,\n",
       "       1.3415453 , 1.3425949 , 1.3426652 , 1.3429356 , 1.3431404 ,\n",
       "       1.3434161 , 1.3439536 , 1.3443174 , 1.3445097 , 1.344623  ,\n",
       "       1.3469989 , 1.347358  , 1.3483096 , 1.3498151 , 1.3507069 ,\n",
       "       1.3507731 , 1.3516043 , 1.3517809 , 1.3520691 , 1.3525765 ,\n",
       "       1.3528755 , 1.3532028 , 1.3549979 , 1.3559539 , 1.3567612 ,\n",
       "       1.3575232 , 1.3576376 , 1.3578653 , 1.3579125 , 1.3591893 ,\n",
       "       1.3602796 , 1.3609908 , 1.3644422 , 1.366005  , 1.367291  ,\n",
       "       1.3676132 , 1.3680482 , 1.3685751 , 1.3686433 , 1.3688583 ,\n",
       "       1.369055  , 1.3714079 , 1.3715718 , 1.3715734 , 1.372263  ,\n",
       "       1.3727276 , 1.3740945 , 1.3748041 , 1.375636  , 1.3765545 ,\n",
       "       1.3780015 , 1.3780271 , 1.3783039 , 1.3792632 , 1.3795452 ,\n",
       "       1.3799821 , 1.3825185 , 1.3850164 , 1.3866814 , 1.3868899 ,\n",
       "       1.3872538 , 1.3874508 , 1.3880796 , 1.3880801 , 1.3884764 ,\n",
       "       1.3900384 , 1.3908033 , 1.3928361 , 1.3928671 , 1.3931829 ,\n",
       "       1.3950856 , 1.3956597 , 1.3957999 , 1.3982008 , 1.4007087 ,\n",
       "       1.4007249 , 1.4010718 , 1.4027648 , 1.4038656 , 1.4048443 ,\n",
       "       1.4052382 , 1.4052589 , 1.4056733 , 1.4059027 , 1.4071012 ,\n",
       "       1.4077256 , 1.4091928 , 1.4093025 , 1.4110274 , 1.4114137 ,\n",
       "       1.4116424 , 1.4120805 , 1.4124722 , 1.4141666 , 1.4150076 ,\n",
       "       1.4160287 , 1.4161491 , 1.4163806 , 1.4183011 , 1.4193128 ,\n",
       "       1.4195083 , 1.4222997 , 1.4230876 , 1.424553  , 1.4248316 ,\n",
       "       1.4249117 , 1.4249797 , 1.4250355 , 1.4251081 , 1.4255896 ,\n",
       "       1.4287722 , 1.4289932 , 1.4289961 , 1.4293392 , 1.4298072 ,\n",
       "       1.4298677 , 1.4311442 , 1.4316084 , 1.4319758 , 1.4319937 ,\n",
       "       1.434346  , 1.4345839 , 1.435499  , 1.4355786 , 1.4364723 ,\n",
       "       1.4370998 , 1.4371761 , 1.4371845 , 1.4374218 , 1.4380357 ,\n",
       "       1.4384012 , 1.4399986 , 1.440278  , 1.4406819 , 1.4411725 ,\n",
       "       1.4413762 , 1.4417491 , 1.4426196 , 1.4433658 , 1.4437748 ,\n",
       "       1.4452602 , 1.4458077 , 1.4471126 , 1.4478235 , 1.4492087 ,\n",
       "       1.4493027 , 1.4497634 , 1.4500946 , 1.4502946 , 1.4517262 ,\n",
       "       1.4520378 , 1.4532411 , 1.4544423 , 1.4549739 , 1.4554287 ,\n",
       "       1.4554576 , 1.4564798 , 1.4567568 , 1.457188  , 1.4574469 ,\n",
       "       1.4582394 , 1.4587688 , 1.4588907 , 1.4589453 , 1.4607809 ,\n",
       "       1.4612429 , 1.4612563 , 1.46168   , 1.4621505 , 1.4640156 ,\n",
       "       1.4641733 , 1.465136  , 1.4655612 , 1.4656293 , 1.4656304 ,\n",
       "       1.467107  , 1.4684634 , 1.4691432 , 1.4696913 , 1.4709237 ,\n",
       "       1.4710517 , 1.4716895 , 1.4724512 , 1.4731855 , 1.4734509 ,\n",
       "       1.4736979 , 1.4737236 , 1.4739121 , 1.4743112 , 1.4759715 ,\n",
       "       1.4768567 , 1.4787855 , 1.4797584 , 1.4808004 , 1.481957  ,\n",
       "       1.4820521 , 1.4822652 , 1.4823899 , 1.4839363 , 1.4853113 ,\n",
       "       1.4860725 , 1.4866594 , 1.4869002 , 1.4869385 , 1.487514  ,\n",
       "       1.4879806 , 1.4886957 , 1.4893947 , 1.4894147 , 1.4894892 ,\n",
       "       1.4901476 , 1.4908574 , 1.491031  , 1.497974  , 1.500311  ,\n",
       "       1.5003964 , 1.5006886 , 1.5010734 , 1.5021746 , 1.5022082 ,\n",
       "       1.502328  , 1.502474  , 1.5028262 , 1.503427  , 1.5039661 ,\n",
       "       1.5040501 , 1.5049707 , 1.5067334 , 1.5079961 , 1.5081363 ,\n",
       "       1.5084692 , 1.5089501 , 1.5100527 , 1.510108  , 1.5104302 ,\n",
       "       1.5108593 , 1.5116442 , 1.5117946 , 1.5119523 , 1.5120587 ,\n",
       "       1.5123862 , 1.5126934 , 1.5128014 , 1.5129161 , 1.5137851 ,\n",
       "       1.514105  , 1.5145748 , 1.5150466 , 1.5151663 , 1.5153017 ,\n",
       "       1.5158541 , 1.5165708 , 1.5180643 , 1.5198586 , 1.520088  ,\n",
       "       1.5202901 , 1.520455  , 1.5204835 , 1.5208899 , 1.521856  ,\n",
       "       1.5230706 , 1.5238752 , 1.5240566 , 1.5244448 , 1.5246282 ,\n",
       "       1.5247638 , 1.5257382 , 1.5258441 , 1.5263381 , 1.5263593 ,\n",
       "       1.5265858 , 1.5276297 , 1.5294728 , 1.5298392 , 1.5302846 ,\n",
       "       1.5312018 , 1.5316824 , 1.5319204 , 1.532517  , 1.5340809 ,\n",
       "       1.5349755 , 1.5351063 , 1.5356342 , 1.535841  , 1.5359887 ,\n",
       "       1.5361829 , 1.5364639 , 1.5369766 , 1.5371369 , 1.537535  ,\n",
       "       1.5375646 , 1.5400517 , 1.5417827 , 1.5419073 , 1.5421839 ,\n",
       "       1.5424075 , 1.5427613 , 1.5428936 , 1.5441456 , 1.5442964 ,\n",
       "       1.5447495 , 1.544927  , 1.5451721 , 1.5455844 , 1.5468631 ,\n",
       "       1.5469557 , 1.5473306 , 1.5480348 , 1.5482196 , 1.5488802 ,\n",
       "       1.5493124 , 1.5494037 , 1.55083   , 1.5509527 , 1.5513912 ,\n",
       "       1.5520707 , 1.5524819 , 1.5529064 , 1.5531894 , 1.5533018 ,\n",
       "       1.5562881 , 1.5573475 , 1.5573761 , 1.5579225 , 1.5584986 ,\n",
       "       1.5585251 , 1.5588875 , 1.559577  , 1.5602435 , 1.5609895 ,\n",
       "       1.5610108 , 1.5616295 , 1.563198  , 1.5636327 , 1.564152  ,\n",
       "       1.564158  , 1.5646727 , 1.564712  , 1.5653243 , 1.5654964 ,\n",
       "       1.5661925 , 1.5669578 , 1.567657  , 1.568131  , 1.5684106 ,\n",
       "       1.5690967 , 1.5695059 , 1.5707282 , 1.570916  , 1.5715245 ,\n",
       "       1.5721667 , 1.5721812 , 1.5729538 , 1.5732602 , 1.5750636 ,\n",
       "       1.5770121 , 1.5770334 , 1.5780526 , 1.5782441 , 1.5786612 ,\n",
       "       1.5786641 , 1.5791576 , 1.5794977 , 1.5798867 , 1.5803019 ,\n",
       "       1.5805999 , 1.5812535 , 1.5815039 , 1.5822184 , 1.5825518 ,\n",
       "       1.582702  , 1.582847  , 1.5831423 , 1.5835971 , 1.5837576 ,\n",
       "       1.5848147 , 1.5853181 , 1.5856504 , 1.5865306 , 1.5899823 ,\n",
       "       1.5904568 , 1.5912519 , 1.5914723 , 1.5921259 , 1.5922179 ,\n",
       "       1.5925976 , 1.5929534 , 1.5929558 , 1.5931108 , 1.593299  ,\n",
       "       1.5939356 , 1.5942883 , 1.5945878 , 1.59693   , 1.5972807 ,\n",
       "       1.5976816 , 1.5977688 , 1.5978737 , 1.5979178 , 1.5979693 ,\n",
       "       1.5984807 , 1.5996689 , 1.5998651 , 1.599893  , 1.6002699 ,\n",
       "       1.6015381 , 1.6016625 , 1.6025997 , 1.6029315 , 1.6045418 ,\n",
       "       1.6047888 , 1.6052629 , 1.6053166 , 1.6071634 , 1.6079018 ,\n",
       "       1.6083611 , 1.6088225 , 1.6093979 , 1.6094705 , 1.6099815 ,\n",
       "       1.6107199 , 1.6107203 , 1.6123946 , 1.6125482 , 1.613081  ,\n",
       "       1.6132324 , 1.6134036 , 1.6134139 , 1.6137581 , 1.61383   ,\n",
       "       1.6138859 , 1.6139282 , 1.6155745 , 1.6164743 , 1.6175995 ,\n",
       "       1.6188165 , 1.619738  , 1.619927  , 1.6201105 , 1.6202719 ,\n",
       "       1.621517  , 1.6218536 , 1.6235495 , 1.6247175 , 1.6247853 ,\n",
       "       1.6260841 , 1.6260854 , 1.6264783 , 1.6283141 , 1.6283998 ,\n",
       "       1.6285707 , 1.6298801 , 1.6314421 , 1.6315621 , 1.631824  ,\n",
       "       1.6326429 , 1.6334584 , 1.6334984 , 1.6346914 , 1.6364264 ,\n",
       "       1.6368339 , 1.637136  , 1.6373277 , 1.6377271 , 1.6379108 ,\n",
       "       1.638059  , 1.6383681 , 1.6384487 , 1.6394385 , 1.6411555 ,\n",
       "       1.642371  , 1.6427641 , 1.6432847 , 1.6435091 , 1.6444091 ,\n",
       "       1.6463509 , 1.646846  , 1.647065  , 1.6471015 , 1.647675  ,\n",
       "       1.6477182 , 1.6479803 , 1.6480048 , 1.6482784 , 1.6483357 ,\n",
       "       1.6492528 , 1.6495984 , 1.6500924 , 1.6501101 , 1.6501108 ,\n",
       "       1.6514448 , 1.6544858 , 1.6552898 , 1.6559649 , 1.6561344 ,\n",
       "       1.6564649 , 1.6568773 , 1.6571652 , 1.6572545 , 1.6573236 ,\n",
       "       1.657399  , 1.6583804 , 1.6595259 , 1.6597941 , 1.6598014 ,\n",
       "       1.6615475 , 1.6621848 , 1.6623914 , 1.6632494 , 1.663838  ,\n",
       "       1.6644146 , 1.666232  , 1.6675962 , 1.6684246 , 1.668942  ,\n",
       "       1.6697123 , 1.6705722 , 1.6706663 , 1.6707698 , 1.6708244 ,\n",
       "       1.6709843 , 1.6710418 , 1.67182   , 1.671869  , 1.6724181 ,\n",
       "       1.6738657 , 1.674181  , 1.6744776 , 1.6749699 , 1.675108  ,\n",
       "       1.6756204 , 1.6759661 , 1.6760942 , 1.676894  , 1.6771369 ,\n",
       "       1.6776965 , 1.6795316 , 1.680026  , 1.6803892 , 1.6808271 ,\n",
       "       1.6811026 , 1.6830752 , 1.6839583 , 1.6847192 , 1.6857388 ,\n",
       "       1.6865298 , 1.68812   , 1.6884745 , 1.690218  , 1.690686  ,\n",
       "       1.6930615 , 1.6942075 , 1.69473   , 1.695076  , 1.695262  ,\n",
       "       1.6960039 , 1.6960778 , 1.6962665 , 1.6979854 , 1.6979976 ,\n",
       "       1.6982704 , 1.6982718 , 1.698606  , 1.6991217 , 1.6993272 ,\n",
       "       1.7003591 , 1.7009058 , 1.7021912 , 1.7026503 , 1.7035913 ,\n",
       "       1.7043606 , 1.7053509 , 1.7054713 , 1.7061393 , 1.7066109 ,\n",
       "       1.709059  , 1.7094709 , 1.7119279 , 1.7127281 , 1.7131104 ,\n",
       "       1.714561  , 1.7146919 , 1.7159095 , 1.7169185 , 1.7179922 ,\n",
       "       1.7196984 , 1.7200716 , 1.7206444 , 1.7206556 , 1.7213532 ,\n",
       "       1.7216499 , 1.7220308 , 1.7220874 , 1.7223613 , 1.7230532 ,\n",
       "       1.7252535 , 1.7257062 , 1.725812  , 1.7262142 , 1.7269795 ,\n",
       "       1.7289321 , 1.7296455 , 1.7329245 , 1.733497  , 1.734679  ,\n",
       "       1.7353128 , 1.7360457 , 1.7367066 , 1.7376423 , 1.7399266 ,\n",
       "       1.7408943 , 1.7438405 , 1.744046  , 1.7469938 , 1.7472198 ,\n",
       "       1.7475597 , 1.7478518 , 1.7493962 , 1.7502724 , 1.7519017 ,\n",
       "       1.7535893 , 1.7548243 , 1.7550468 , 1.7559165 , 1.7559608 ,\n",
       "       1.7563723 , 1.7570431 , 1.7573062 , 1.757555  , 1.758659  ,\n",
       "       1.758703  , 1.7597983 , 1.7614459 , 1.7630217 , 1.7647892 ,\n",
       "       1.766731  , 1.7691346 , 1.7702582 , 1.7706879 , 1.77189   ,\n",
       "       1.7738073 , 1.7748033 , 1.7791972 , 1.7793385 , 1.7796444 ,\n",
       "       1.7839903 , 1.7847618 , 1.7852052 , 1.7859555 , 1.7900052 ,\n",
       "       1.7914418 , 1.7944487 , 1.796294  , 1.7981147 , 1.80745   ,\n",
       "       1.8093408 , 1.8153119 , 1.8153964 , 1.8160015 , 1.8182411 ,\n",
       "       1.8205312 , 1.821543  , 1.8231033 , 1.8246169 , 1.826895  ,\n",
       "       1.8290313 , 1.8290949 , 1.8300571 , 1.8327533 , 1.8459998 ,\n",
       "       1.8465967 , 1.8471636 , 1.8474876 , 1.8505167 , 1.857484  ,\n",
       "       1.8591211 , 1.8642797 , 1.8673055 , 1.8681585 , 1.8699902 ,\n",
       "       1.8712627 , 1.8732201 , 1.8736346 , 1.8788393 , 1.8854616 ,\n",
       "       1.9100217 , 1.9276012 , 1.9300202 , 1.9438788 , 1.9717709 ],\n",
       "      dtype=float32)"
      ]
     },
     "execution_count": 103,
     "metadata": {},
     "output_type": "execute_result"
    }
   ],
   "source": [
    "distances[0,:]"
   ]
  },
  {
   "cell_type": "code",
   "execution_count": 92,
   "id": "109f5449",
   "metadata": {
    "collapsed": true
   },
   "outputs": [
    {
     "name": "stdout",
     "output_type": "stream",
     "text": [
      "query  themselves  nearest  them\n",
      "query  firm  nearest  company\n",
      "query  injured  nearest  killed\n",
      "query  itself  nearest  it\n",
      "query  governor  nearest  republican\n",
      "query  movie  nearest  film\n",
      "query  range  nearest  low\n",
      "query  cross  nearest  across\n",
      "query  track  nearest  song\n",
      "query  programs  nearest  program\n",
      "query  1995  nearest  1994\n",
      "query  forced  nearest  leave\n",
      "query  includes  nearest  include\n",
      "query  difficult  nearest  very\n",
      "query  produced  nearest  production\n",
      "query  wall  nearest  street\n",
      "query  rebels  nearest  fighting\n",
      "query  income  nearest  tax\n",
      "query  corp.  nearest  inc.\n",
      "query  chance  nearest  give\n",
      "query  elected  nearest  election\n",
      "query  23  nearest  22\n",
      "query  reach  nearest  reached\n",
      "query  adding  nearest  added\n",
      "query  species  nearest  common\n",
      "query  wants  nearest  want\n",
      "query  finished  nearest  third\n",
      "query  rise  nearest  increase\n",
      "query  killing  nearest  killed\n",
      "query  spain  nearest  italy\n",
      "query  joined  nearest  returned\n",
      "query  italian  nearest  italy\n",
      "query  language  nearest  english\n",
      "query  rest  nearest  all\n",
      "query  serious  nearest  problems\n",
      "query  paris  nearest  france\n",
      "query  tournament  nearest  championship\n",
      "query  officers  nearest  police\n",
      "query  inside  nearest  outside\n",
      "query  scheduled  nearest  next\n",
      "query  immediately  nearest  soon\n",
      "query  increased  nearest  increase\n",
      "query  brown  nearest  black\n",
      "query  remained  nearest  remain\n",
      "query  parts  nearest  part\n",
      "query  success  nearest  winning\n",
      "query  changes  nearest  change\n",
      "query  la  nearest  de\n",
      "query  residents  nearest  people\n",
      "query  meanwhile  nearest  tuesday\n",
      "query  net  nearest  quarter\n",
      "query  sides  nearest  both\n",
      "query  jobs  nearest  job\n",
      "query  hall  nearest  room\n",
      "query  believed  nearest  believe\n",
      "query  olympic  nearest  gold\n",
      "query  deputy  nearest  minister\n",
      "query  records  nearest  record\n",
      "query  heart  nearest  hospital\n",
      "query  champion  nearest  title\n",
      "query  award  nearest  best\n",
      "query  planned  nearest  plans\n",
      "query  version  nearest  original\n",
      "query  grand  nearest  title\n",
      "query  institute  nearest  research\n",
      "query  step  nearest  move\n",
      "query  democrats  nearest  republican\n",
      "query  rule  nearest  government\n",
      "query  labor  nearest  workers\n",
      "query  above  nearest  level\n",
      "query  summit  nearest  meeting\n",
      "query  sometimes  nearest  often\n",
      "query  addition  nearest  include\n",
      "query  raised  nearest  recently\n",
      "query  william  nearest  james\n",
      "query  needs  nearest  need\n",
      "query  26  nearest  22\n",
      "query  talk  nearest  n't\n",
      "query  longer  nearest  even\n",
      "query  terms  nearest  term\n",
      "query  rules  nearest  law\n",
      "query  ruling  nearest  court\n",
      "query  joint  nearest  cooperation\n",
      "query  ball  nearest  got\n",
      "query  beginning  nearest  began\n",
      "query  sure  nearest  know\n",
      "query  28  nearest  22\n",
      "query  stay  nearest  leave\n",
      "query  safety  nearest  health\n",
      "query  worth  nearest  million\n",
      "query  charge  nearest  charges\n",
      "query  korean  nearest  korea\n",
      "query  begin  nearest  start\n",
      "query  arab  nearest  palestinian\n",
      "query  27  nearest  22\n",
      "query  friends  nearest  family\n",
      "query  anything  nearest  nothing\n",
      "query  atlanta  nearest  angeles\n",
      "query  caused  nearest  result\n",
      "query  sources  nearest  according\n"
     ]
    }
   ],
   "source": [
    "for j in range(100):\n",
    "    print('query ',word[start+j],' nearest ',word[indices[j,0]])"
   ]
  },
  {
   "cell_type": "code",
   "execution_count": 105,
   "id": "8e337fca",
   "metadata": {},
   "outputs": [
    {
     "data": {
      "image/png": "[encoded data removed]",
      "text/plain": [
       "<Figure size 640x480 with 1 Axes>"
      ]
     },
     "metadata": {},
     "output_type": "display_data"
    }
   ],
   "source": [
    "from matplotlib.pylab import *\n",
    "hist([distances[:,10],distances[:,0]],bins=100);"
   ]
  },
  {
   "cell_type": "code",
   "execution_count": 106,
   "id": "a995c08d",
   "metadata": {},
   "outputs": [
    {
     "data": {
      "image/png": "[encoded data removed]",
      "text/plain": [
       "<Figure size 640x480 with 1 Axes>"
      ]
     },
     "metadata": {},
     "output_type": "display_data"
    }
   ],
   "source": [
    "hist(distances.flatten(),bins=100);"
   ]
  },
  {
   "cell_type": "code",
   "execution_count": 107,
   "id": "b9d15048",
   "metadata": {},
   "outputs": [
    {
     "data": {
      "text/plain": [
       "1.4142135623730951"
      ]
     },
     "execution_count": 107,
     "metadata": {},
     "output_type": "execute_result"
    }
   ],
   "source": [
    "sqrt(2)"
   ]
  },
  {
   "cell_type": "code",
   "execution_count": 60,
   "id": "42af6dc9",
   "metadata": {},
   "outputs": [
    {
     "data": {
      "text/plain": [
       "array([[735],\n",
       "       [ 36],\n",
       "       [441],\n",
       "       [591],\n",
       "       [349],\n",
       "       [553],\n",
       "       [108],\n",
       "       [902],\n",
       "       [931],\n",
       "       [798]])"
      ]
     },
     "execution_count": 60,
     "metadata": {},
     "output_type": "execute_result"
    }
   ],
   "source": [
    "indices"
   ]
  },
  {
   "cell_type": "code",
   "execution_count": 57,
   "id": "d3a2202d",
   "metadata": {},
   "outputs": [
    {
     "data": {
      "text/plain": [
       "<function numpy.indices(dimensions, dtype=<class 'int'>, sparse=False)>"
      ]
     },
     "execution_count": 57,
     "metadata": {},
     "output_type": "execute_result"
    }
   ],
   "source": [
    "indices"
   ]
  },
  {
   "cell_type": "code",
   "execution_count": null,
   "id": "0acb72f6",
   "metadata": {},
   "outputs": [],
   "source": []
  }
 ],
 "metadata": {
  "kernelspec": {
   "display_name": "Python 3.10 (conda)",
   "language": "python",
   "name": "py310"
  },
  "language_info": {
   "codemirror_mode": {
    "name": "ipython",
    "version": 3
   },
   "file_extension": ".py",
   "mimetype": "text/x-python",
   "name": "python",
   "nbconvert_exporter": "python",
   "pygments_lexer": "ipython3",
   "version": "3.9.22"
  },
  "toc": {
   "base_numbering": 1,
   "nav_menu": {},
   "number_sections": true,
   "sideBar": true,
   "skip_h1_title": false,
   "title_cell": "Table of Contents",
   "title_sidebar": "Contents",
   "toc_cell": false,
   "toc_position": {},
   "toc_section_display": true,
   "toc_window_display": false
  }
 },
 "nbformat": 4,
 "nbformat_minor": 5
}
