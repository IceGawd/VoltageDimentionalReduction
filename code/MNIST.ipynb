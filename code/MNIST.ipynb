{
 "cells": [
  {
   "cell_type": "code",
   "execution_count": 1,
   "id": "62291881-06f3-4d0e-a178-ed0853252e58",
   "metadata": {},
   "outputs": [],
   "source": [
    "import create_data\n",
    "import kmeans\n",
    "import voltage\n",
    "import os\n",
    "import importlib\n",
    "import time\n",
    "import bpf\n",
    "import numpy as np\n",
    "\n",
    "\n",
    "from sklearn.decomposition import PCA\n",
    "import matplotlib.pyplot as plt\n",
    "from sklearn.datasets import fetch_openml"
   ]
  },
  {
   "cell_type": "code",
   "execution_count": 2,
   "id": "499c0c1b-e9ba-4fd1-bd2e-0dc66a9a8b9b",
   "metadata": {},
   "outputs": [
    {
     "data": {
      "text/plain": [
       "<module 'bpf' from 'C:\\\\Users\\\\avigh\\\\Documents\\\\python\\\\VoltageDimentionalReduction\\\\code\\\\bpf.py'>"
      ]
     },
     "execution_count": 2,
     "metadata": {},
     "output_type": "execute_result"
    }
   ],
   "source": [
    "importlib.reload(create_data)\n",
    "importlib.reload(kmeans)\n",
    "importlib.reload(voltage)\n",
    "importlib.reload(bpf)"
   ]
  },
  {
   "cell_type": "code",
   "execution_count": 3,
   "id": "d47dd5d2-5c87-4dd4-a83f-c4e762825880",
   "metadata": {},
   "outputs": [
    {
     "name": "stdout",
     "output_type": "stream",
     "text": [
      "Loading Data...\n"
     ]
    }
   ],
   "source": [
    "print(\"Loading Data...\")\n",
    "mnist = fetch_openml('mnist_784', version=1, as_frame=False)\n",
    "X, y = mnist.data, mnist.target.astype(np.int64)\n",
    "\n",
    "# data = create_data.Data(np.array(X))"
   ]
  },
  {
   "cell_type": "code",
   "execution_count": 4,
   "id": "e6cd943a-a06e-4bbd-975f-687f12df8d24",
   "metadata": {},
   "outputs": [
    {
     "name": "stdout",
     "output_type": "stream",
     "text": [
      "Sorting and averaging...\n"
     ]
    }
   ],
   "source": [
    "# MNIST Pre-processing\n",
    "\n",
    "subDivision = {}\n",
    "summation = {}\n",
    "count = {}\n",
    "\n",
    "print(\"Sorting and averaging...\")\n",
    "\n",
    "for xi, yi in zip(X, y):\n",
    "    if yi in summation:\n",
    "        subDivision[yi].append(np.array(xi))\n",
    "        summation[yi] += np.array(xi)\n",
    "        count[yi] += 1\n",
    "    else:\n",
    "        subDivision[yi] = [np.array(xi)]\n",
    "        summation[yi] = np.array(xi)\n",
    "        count[yi] = 1"
   ]
  },
  {
   "cell_type": "code",
   "execution_count": 5,
   "id": "0040fbcc-c94e-45a5-86af-6b6e396dc30d",
   "metadata": {},
   "outputs": [
    {
     "name": "stdout",
     "output_type": "stream",
     "text": [
      "Kmeans...\n",
      "0\n",
      "1\n",
      "2\n",
      "3\n",
      "4\n",
      "5\n",
      "6\n",
      "7\n",
      "8\n",
      "9\n"
     ]
    }
   ],
   "source": [
    "# Kmeans sampling equal points from each of the 10 digits\n",
    "\n",
    "print(\"Kmeans...\")\n",
    "\n",
    "points = 100\n",
    "k = points // 10\n",
    "data = []\n",
    "\n",
    "for yi in range(10):\n",
    "    print(yi)\n",
    "    \n",
    "    partitions = kmeans.Partitions(subDivision[yi])\n",
    "    partitions.k_means(k, seed=time.time())\n",
    "\n",
    "    data += list(partitions.centers)"
   ]
  },
  {
   "cell_type": "code",
   "execution_count": 6,
   "id": "328d8906-0dff-4835-a3d5-5e85c9807147",
   "metadata": {},
   "outputs": [
    {
     "name": "stdout",
     "output_type": "stream",
     "text": [
      "100\n",
      "[6, 16, 29, 33, 48, 58, 65, 79, 84, 93]\n"
     ]
    }
   ],
   "source": [
    "# Create the landmarks\n",
    "\n",
    "data = create_data.Data(data)\n",
    "\n",
    "landmarks = []\n",
    "for yi in range(10):\n",
    "    landmark = voltage.Landmark(-1, 1)\n",
    "\n",
    "    ignore = []\n",
    "    while (landmark.index // k != yi):\n",
    "        ignore.append(landmark.index)\n",
    "\n",
    "        landmark = voltage.Landmark.createLandmarkClosestTo(data, summation[yi] / count[yi], 1, ignore=ignore)\n",
    " \n",
    "    landmarks.append(landmark)\n",
    "\n",
    "print(len(data))\n",
    "print([l.index for l in landmarks])"
   ]
  },
  {
   "cell_type": "code",
   "execution_count": 7,
   "id": "9134cd40-628f-4001-8800-b168efd6ab6e",
   "metadata": {},
   "outputs": [
    {
     "name": "stdout",
     "output_type": "stream",
     "text": [
      "<class 'create_data.Data'>\n",
      "True\n"
     ]
    }
   ],
   "source": [
    "print(type(data))\n",
    "print(isinstance(data, create_data.Data))"
   ]
  },
  {
   "cell_type": "code",
   "execution_count": 8,
   "id": "1cfdc8de-a004-4a02-a260-50fb907207b4",
   "metadata": {},
   "outputs": [
    {
     "name": "stdout",
     "output_type": "stream",
     "text": [
      "Parameter Finding...\n",
      "15.0 148.4131591025766 148.4131591025766\n",
      "5.0 3269017.3724721107 0.006737946999085467\n",
      "1.6666666666666667 91635868.75882752 0.00024036947641951407\n",
      "0.5555555555555556 278365190.4891118 7.912794612036177e-05\n",
      "403148208.29230106 5.46361495394182e-05\n",
      "15.0 148.4131591025766 148.4131591025766\n",
      "5.0 3269017.3724721107 0.006737946999085467\n",
      "1.6666666666666667 91635868.75882752 0.00024036947641951407\n",
      "0.5555555555555556 278365190.4891118 7.912794612036177e-05\n",
      "403148208.29230106 5.46361495394182e-05\n",
      "15.0 148.4131591025766 148.4131591025766\n",
      "5.0 22026.465794806718 0.006737946999085467\n",
      "1.6666666666666667 785.7719942274168 0.00024036947641951407\n",
      "0.5555555555555556 785.7719942274168 7.912794612036177e-05\n",
      "945.6304537275181 5.46361495394182e-05\n",
      "15.0 148.4131591025766 148.4131591025766\n",
      "5.0 22026.465794806718 0.006737946999085467\n",
      "1.6666666666666667 785.7719942274168 0.00024036947641951407\n",
      "0.5555555555555556 1369.529079613122 7.912794612036177e-05\n",
      "945.6304537275181 5.46361495394182e-05\n",
      "15.0 148.4131591025766 148.4131591025766\n",
      "5.0 22026.465794806718 0.006737946999085467\n",
      "1.6666666666666667 785.7719942274168 0.00024036947641951407\n",
      "0.5555555555555556 785.7719942274168 7.912794612036177e-05\n",
      "652.9375449767879 5.46361495394182e-05\n",
      "15.0 148.4131591025766 148.4131591025766\n",
      "5.0 22026.465794806718 0.006737946999085467\n",
      "1.6666666666666667 785.7719942274168 0.00024036947641951407\n",
      "0.5555555555555556 785.7719942274168 7.912794612036177e-05\n",
      "652.9375449767879 5.46361495394182e-05\n",
      "15.0 148.4131591025766 148.4131591025766\n",
      "5.0 22026.465794806718 0.006737946999085467\n",
      "1.6666666666666667 4160.262005375057 0.00024036947641951407\n",
      "0.5555555555555556 2386.9645567479115 7.912794612036177e-05\n",
      "1983.4491291102415 5.46361495394182e-05\n",
      "15.0 148.4131591025766 148.4131591025766\n",
      "5.0 22026.465794806718 0.006737946999085467\n",
      "1.6666666666666667 785.7719942274168 0.00024036947641951407\n",
      "0.5555555555555556 785.7719942274168 7.912794612036177e-05\n",
      "652.9375449767879 5.46361495394182e-05\n",
      "15.0 148.4131591025766 148.4131591025766\n",
      "5.0 22026.465794806718 0.006737946999085467\n",
      "1.6666666666666667 785.7719942274168 0.00024036947641951407\n",
      "0.5555555555555556 785.7719942274168 7.912794612036177e-05\n",
      "652.9375449767879 5.46361495394182e-05\n",
      "15.0 148.4131591025766 148.4131591025766\n",
      "5.0 22026.465794806718 0.006737946999085467\n",
      "1.6666666666666667 785.7719942274168 0.00024036947641951407\n",
      "0.5555555555555556 785.7719942274168 7.912794612036177e-05\n",
      "652.9375449767879 5.46361495394182e-05\n",
      "[np.float64(403148208.29230106), np.float64(403148208.29230106), np.float64(945.6304537275181), np.float64(945.6304537275181), np.float64(652.9375449767879), np.float64(652.9375449767879), np.float64(1983.4491291102415), np.float64(652.9375449767879), np.float64(652.9375449767879), np.float64(652.9375449767879)]\n",
      "[np.float64(5.46361495394182e-05), np.float64(5.46361495394182e-05), np.float64(5.46361495394182e-05), np.float64(5.46361495394182e-05), np.float64(5.46361495394182e-05), np.float64(5.46361495394182e-05), np.float64(5.46361495394182e-05), np.float64(5.46361495394182e-05), np.float64(5.46361495394182e-05), np.float64(5.46361495394182e-05)]\n"
     ]
    }
   ],
   "source": [
    "print(\"Parameter Finding...\")\n",
    "\n",
    "cs = []\n",
    "pgs = []\n",
    "\n",
    "param_finder = bpf.BestParameterFinder()\n",
    "\n",
    "for landmark in landmarks:\n",
    "    c, p_g = param_finder.bestParameterFinder([landmark], data, minBound=-10, maxBound=20, granularity=3, epsilon=0.5, approx=10)\n",
    "    print(c, p_g)\n",
    "    cs.append(c)\n",
    "    pgs.append(p_g)\n",
    "\n",
    "print(cs)\n",
    "print(pgs)"
   ]
  },
  {
   "cell_type": "code",
   "execution_count": 9,
   "id": "d1176891-bd9a-4c29-a8c3-9f67cab2a25e",
   "metadata": {},
   "outputs": [
    {
     "name": "stdout",
     "output_type": "stream",
     "text": [
      "10.0 1.0 1.0\n",
      "1.0 403.4287934927351 0.00012340980408667956\n"
     ]
    }
   ],
   "source": [
    "c, p_g = param_finder.bestParameterFinder(landmarks, data, minBound=-10, maxBound=10, granularity=10, epsilon=0.5, approx=10)"
   ]
  },
  {
   "cell_type": "code",
   "execution_count": 20,
   "id": "84da591b-c664-4f92-b6f7-86d3ba91bb43",
   "metadata": {},
   "outputs": [],
   "source": [
    "voltages = []\n",
    "\n",
    "for index in range(0, len(landmarks)):\n",
    "    problem = voltage.Problem(data)\n",
    "    problem.setKernel(problem.gaussiankernel)\n",
    "    problem.setWeights(c)\n",
    "    problem.addLandmark(landmarks[index])\n",
    "    problem.addUniversalGround(p_g)\n",
    "    voltages.append(voltage.Solver(problem).approximate_voltages(max_iters=10))"
   ]
  },
  {
   "cell_type": "code",
   "execution_count": 13,
   "id": "cb8f42f8-2c7f-48e4-ab3c-c864eccc8db6",
   "metadata": {},
   "outputs": [
    {
     "data": {
      "text/plain": [
       "<Figure size 640x480 with 0 Axes>"
      ]
     },
     "metadata": {},
     "output_type": "display_data"
    },
    {
     "data": {
      "text/plain": [
       "<Figure size 800x600 with 0 Axes>"
      ]
     },
     "metadata": {},
     "output_type": "display_data"
    }
   ],
   "source": [
    "param_finder.visualizations(voltages, \"../inputoutput/matplotfigures/MNIST\")"
   ]
  },
  {
   "cell_type": "code",
   "execution_count": 14,
   "id": "0d6f2c8a-89b7-4637-93a3-165975705e7c",
   "metadata": {},
   "outputs": [
    {
     "name": "stdout",
     "output_type": "stream",
     "text": [
      "[1.26306156e-01 2.39128288e-02 2.40488238e-02 8.35614357e-02\n",
      " 1.95382105e-01 9.08818360e-02 1.00000000e+00 7.43354687e-02\n",
      " 7.15647034e-02 2.52067993e-01 4.33245434e-04 4.93038348e-04\n",
      " 3.87584089e-04 4.23213659e-04 3.75362182e-04 5.43256224e-04\n",
      " 4.47276590e-04 7.02367280e-04 6.88584956e-04 3.49791148e-04\n",
      " 1.38718652e-03 1.79103596e-03 4.25058064e-03 4.35354487e-03\n",
      " 1.73708982e-03 2.31053828e-03 3.03902550e-03 1.94809800e-03\n",
      " 1.12411872e-02 3.06529106e-03 8.30054360e-03 5.61742996e-03\n",
      " 3.04551144e-03 3.66728155e-03 3.86487723e-03 5.59375945e-03\n",
      " 7.13010234e-03 2.41241121e-03 3.50763605e-03 5.91064369e-03\n",
      " 1.15587301e-03 1.58165456e-03 2.95669731e-03 7.98231301e-04\n",
      " 1.44631492e-03 1.44945514e-03 1.24216414e-03 1.09865311e-03\n",
      " 1.34344628e-03 1.47232355e-03 6.21230858e-03 5.44795690e-03\n",
      " 1.13649130e-02 1.33933748e-02 6.21426345e-03 2.10673441e-02\n",
      " 2.00128017e-03 6.26663140e-03 7.01151177e-03 4.65016462e-03\n",
      " 5.75833978e-03 1.01866636e-03 3.42222237e-03 4.35357070e-03\n",
      " 4.62776747e-03 7.49087225e-03 3.31734422e-03 1.68050112e-03\n",
      " 1.46105767e-02 7.83342523e-03 7.86092352e-04 1.10587722e-03\n",
      " 1.27932602e-03 9.69856420e-04 8.89943100e-04 9.74041640e-04\n",
      " 9.81727388e-04 1.29658984e-03 8.95293731e-04 9.26019764e-04\n",
      " 3.52798677e-03 3.45769997e-03 3.63382976e-03 6.79050855e-03\n",
      " 2.93353779e-03 7.53890190e-03 3.04795012e-03 2.55139536e-03\n",
      " 2.91452092e-03 4.53186732e-03 1.10865025e-03 1.41039599e-03\n",
      " 1.51661971e-03 1.43454067e-03 2.49233748e-03 1.38654412e-03\n",
      " 1.23562410e-03 1.81545438e-03 1.35329814e-03 1.51770621e-03]\n"
     ]
    }
   ],
   "source": [
    "print(voltages[0])"
   ]
  },
  {
   "cell_type": "code",
   "execution_count": 15,
   "id": "ce8fe481-6753-4e82-bb86-535cc43ad5d8",
   "metadata": {},
   "outputs": [
    {
     "name": "stdout",
     "output_type": "stream",
     "text": [
      "[4.13812440e-03 2.01195393e-04 6.71292982e-04 1.65446520e-04\n",
      " 1.20240713e-03 6.64310963e-03 1.12404598e-03 5.69935988e-05\n",
      " 1.30751614e-03 3.23059678e-04 2.81990922e-01 4.38608002e-01\n",
      " 3.47433107e-01 5.14213968e-01 1.67379832e-01 2.85864115e-01\n",
      " 1.00000000e+00 1.68176016e-01 3.41528625e-01 6.23668986e-02\n",
      " 2.50364360e-02 6.57443521e-02 3.75973821e-03 1.32433326e-02\n",
      " 1.10664178e-02 2.40422065e-02 6.76954298e-03 3.88710731e-02\n",
      " 5.68967767e-03 1.80948640e-02 1.63138166e-02 2.73579912e-02\n",
      " 4.48200742e-02 1.52710495e-02 1.03370311e-02 1.42431761e-02\n",
      " 1.06683785e-02 3.11129531e-02 7.07947231e-03 8.41947745e-03\n",
      " 1.07328742e-02 2.59176269e-02 1.67672179e-02 2.84829845e-03\n",
      " 1.40338506e-02 7.22229703e-03 3.97006170e-03 7.98958133e-03\n",
      " 1.04648743e-02 2.35151400e-02 4.86779776e-03 2.40236282e-02\n",
      " 1.04278612e-02 8.41297459e-03 9.56379705e-03 1.28205294e-02\n",
      " 5.08146719e-02 2.68565624e-02 2.11922399e-02 2.07603540e-02\n",
      " 5.40942957e-03 2.28373734e-03 6.00581123e-02 1.89230348e-02\n",
      " 2.27256046e-03 1.57592260e-02 7.71426789e-03 3.03599022e-03\n",
      " 5.06275495e-03 2.06869296e-02 1.02528542e-02 4.18616090e-03\n",
      " 6.97133226e-02 5.40499863e-03 7.79958709e-03 2.40155591e-02\n",
      " 1.25093967e-02 3.18894467e-02 1.21202993e-02 1.92311800e-02\n",
      " 3.17872907e-02 1.61211548e-02 2.41177779e-02 1.49162072e-02\n",
      " 2.73975919e-02 6.99393491e-03 5.15660109e-02 2.08104264e-02\n",
      " 1.15677899e-02 1.78520838e-02 3.96768570e-03 1.42018127e-02\n",
      " 2.02665021e-02 1.44156779e-02 7.13022299e-03 2.62447591e-02\n",
      " 6.79593161e-03 1.02846937e-02 1.17184047e-02 3.36442637e-02]\n"
     ]
    }
   ],
   "source": [
    "print(voltages[1])"
   ]
  },
  {
   "cell_type": "code",
   "execution_count": 21,
   "id": "cc236425-b160-4bf0-a5f2-e3db6c22d8cc",
   "metadata": {},
   "outputs": [
    {
     "name": "stdout",
     "output_type": "stream",
     "text": [
      "[0 0 0 0 0 5 0 0 0 0 1 1 1 1 1 1 1 1 1 1 2 2 2 2 2 2 2 2 2 2 5 5 5 3 3 5 3\n",
      " 5 3 3 4 9 4 4 4 4 4 4 4 4 3 5 5 5 5 5 1 5 5 5 6 2 6 6 6 6 6 6 6 6 7 7 7 7\n",
      " 7 7 7 8 7 7 8 8 8 8 8 3 8 8 8 8 4 4 9 9 9 9 4 9 4 9]\n",
      "Incorrect predictions: 16/100\n",
      "Accuracy: 84.00%\n",
      "Error Rate: 16.00%\n"
     ]
    }
   ],
   "source": [
    "predicted = np.argmax(voltages, axis=0)\n",
    "correct = np.repeat(np.arange(10), k)\n",
    "\n",
    "num_incorrect = np.sum(predicted != correct)\n",
    "\n",
    "accuracy = np.mean(predicted == correct)\n",
    "error_rate = 1 - accuracy\n",
    "\n",
    "print(predicted)\n",
    "print(f\"Incorrect predictions: {num_incorrect}/100\")\n",
    "print(f\"Accuracy: {accuracy:.2%}\")\n",
    "print(f\"Error Rate: {error_rate:.2%}\")"
   ]
  },
  {
   "cell_type": "code",
   "execution_count": null,
   "id": "acc3f51a-a333-4e38-a2d6-326cc6834f9b",
   "metadata": {},
   "outputs": [],
   "source": []
  }
 ],
 "metadata": {
  "kernelspec": {
   "display_name": "Python 3 (ipykernel)",
   "language": "python",
   "name": "python3"
  },
  "language_info": {
   "codemirror_mode": {
    "name": "ipython",
    "version": 3
   },
   "file_extension": ".py",
   "mimetype": "text/x-python",
   "name": "python",
   "nbconvert_exporter": "python",
   "pygments_lexer": "ipython3",
   "version": "3.13.2"
  }
 },
 "nbformat": 4,
 "nbformat_minor": 5
}
