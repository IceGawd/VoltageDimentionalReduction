{
 "cells": [
  {
   "cell_type": "code",
   "execution_count": 54,
   "id": "62291881-06f3-4d0e-a178-ed0853252e58",
   "metadata": {},
   "outputs": [],
   "source": [
    "import create_data\n",
    "import kmeans\n",
    "import voltage\n",
    "import os\n",
    "import importlib\n",
    "import time\n",
    "import bpf\n",
    "import numpy as np\n",
    "\n",
    "\n",
    "from sklearn.decomposition import PCA\n",
    "import matplotlib.pyplot as plt\n",
    "from sklearn.datasets import fetch_openml"
   ]
  },
  {
   "cell_type": "code",
   "execution_count": 55,
   "id": "499c0c1b-e9ba-4fd1-bd2e-0dc66a9a8b9b",
   "metadata": {},
   "outputs": [
    {
     "data": {
      "text/plain": [
       "<module 'bpf' from 'C:\\\\Users\\\\avigh\\\\Documents\\\\python\\\\VoltageDimentionalReduction\\\\code\\\\bpf.py'>"
      ]
     },
     "execution_count": 55,
     "metadata": {},
     "output_type": "execute_result"
    }
   ],
   "source": [
    "importlib.reload(create_data)\n",
    "importlib.reload(kmeans)\n",
    "importlib.reload(voltage)\n",
    "importlib.reload(bpf)"
   ]
  },
  {
   "cell_type": "code",
   "execution_count": 56,
   "id": "d47dd5d2-5c87-4dd4-a83f-c4e762825880",
   "metadata": {},
   "outputs": [
    {
     "name": "stdout",
     "output_type": "stream",
     "text": [
      "Loading Data...\n"
     ]
    }
   ],
   "source": [
    "print(\"Loading Data...\")\n",
    "mnist = fetch_openml('mnist_784', version=1, as_frame=False)\n",
    "X, y = mnist.data, mnist.target.astype(np.int64)\n",
    "\n",
    "# data = create_data.Data(np.array(X))"
   ]
  },
  {
   "cell_type": "code",
   "execution_count": 57,
   "id": "e6cd943a-a06e-4bbd-975f-687f12df8d24",
   "metadata": {},
   "outputs": [
    {
     "name": "stdout",
     "output_type": "stream",
     "text": [
      "Sorting and averaging...\n"
     ]
    }
   ],
   "source": [
    "subDivision = {}\n",
    "summation = {}\n",
    "count = {}\n",
    "\n",
    "print(\"Sorting and averaging...\")\n",
    "\n",
    "for xi, yi in zip(X, y):\n",
    "    if yi in summation:\n",
    "        subDivision[yi].append(np.array(xi))\n",
    "        summation[yi] += np.array(xi)\n",
    "        count[yi] += 1\n",
    "    else:\n",
    "        subDivision[yi] = [np.array(xi)]\n",
    "        summation[yi] = np.array(xi)\n",
    "        count[yi] = 1"
   ]
  },
  {
   "cell_type": "code",
   "execution_count": 58,
   "id": "0040fbcc-c94e-45a5-86af-6b6e396dc30d",
   "metadata": {},
   "outputs": [
    {
     "name": "stdout",
     "output_type": "stream",
     "text": [
      "Kmeans...\n",
      "0\n",
      "1\n",
      "2\n",
      "3\n",
      "4\n",
      "5\n",
      "6\n",
      "7\n",
      "8\n",
      "9\n",
      "100\n",
      "[2, 10, 29, 33, 41, 57, 65, 79, 86, 92]\n"
     ]
    }
   ],
   "source": [
    "print(\"Kmeans...\")\n",
    "\n",
    "k = 10\n",
    "landmarks = []\n",
    "data = []\n",
    "\n",
    "for yi in range(10):\n",
    "    print(yi)\n",
    "    \n",
    "    partitions = kmeans.Partitions(subDivision[yi])\n",
    "    partitions.k_means(k, seed=time.time())\n",
    "\n",
    "    data += list(partitions.centers)\n",
    "\n",
    "for yi in range(10):\n",
    "    landmarks.append(voltage.createLandmarkClosestTo(data, summation[yi] / count[yi], 1))\n",
    "\n",
    "data = create_data.Data(data)\n",
    "print(len(data))\n",
    "print([l.index for l in landmarks])"
   ]
  },
  {
   "cell_type": "code",
   "execution_count": 59,
   "id": "9134cd40-628f-4001-8800-b168efd6ab6e",
   "metadata": {},
   "outputs": [
    {
     "name": "stdout",
     "output_type": "stream",
     "text": [
      "<class 'create_data.Data'>\n",
      "True\n"
     ]
    }
   ],
   "source": [
    "print(type(data))\n",
    "print(isinstance(data, create_data.Data))"
   ]
  },
  {
   "cell_type": "code",
   "execution_count": 65,
   "id": "1cfdc8de-a004-4a02-a260-50fb907207b4",
   "metadata": {},
   "outputs": [
    {
     "name": "stdout",
     "output_type": "stream",
     "text": [
      "Parameter Finding...\n",
      "10.0 1.0 1.0\n",
      "1.0 403.4287934927351 0.1353352832366127\n",
      "5.8 -2.9\n",
      "10.0 1.0 1.0\n",
      "1.0 403.4287934927351 1.0\n",
      "5.8 -0.8\n",
      "10.0 1.0 1.0\n",
      "1.0 403.4287934927351 1.0\n",
      "5.8 -0.7\n",
      "10.0 1.0 1.0\n",
      "1.0 403.4287934927351 1.0\n",
      "5.6 -0.9\n",
      "10.0 1.0 1.0\n",
      "1.0 148.4131591025766 0.00012340980408667956\n",
      "5.0 -8.7\n",
      "10.0 1.0 1.0\n",
      "1.0 148.4131591025766 0.0009118819655545162\n",
      "5.0 -6.6\n",
      "10.0 1.0 1.0\n",
      "1.0 403.4287934927351 0.36787944117144233\n",
      "5.8 -1.4\n",
      "10.0 1.0 1.0\n",
      "1.0 148.4131591025766 0.00033546262790251185\n",
      "5.0 -7.6\n",
      "10.0 1.0 1.0\n",
      "1.0 148.4131591025766 0.0009118819655545162\n",
      "5.0 -6.9\n",
      "10.0 1.0 1.0\n",
      "1.0 148.4131591025766 0.0009118819655545162\n",
      "5.0 -7.1\n",
      "[5.8, 5.8, 5.8, 5.6, 5.0, 5.0, 5.8, 5.0, 5.0, 5.0]\n",
      "[-2.9, -0.8, -0.7, -0.9, -8.7, -6.6, -1.4, -7.6, -6.9, -7.1]\n"
     ]
    }
   ],
   "source": [
    "print(\"Parameter Finding...\")\n",
    "\n",
    "cs = []\n",
    "pgs = []\n",
    "\n",
    "for landmark in landmarks:\n",
    "    c, p_g = bpf.bestParameterFinder(voltage.gaussiankernel, [landmark], data, minBound=-10, maxBound=10, granularity=5, epsilon=0.5)\n",
    "    print(c, p_g)\n",
    "    cs.append(c)\n",
    "    pgs.append(p_g)\n",
    "\n",
    "print(cs)\n",
    "print(pgs)"
   ]
  },
  {
   "cell_type": "code",
   "execution_count": 81,
   "id": "d1176891-bd9a-4c29-a8c3-9f67cab2a25e",
   "metadata": {},
   "outputs": [
    {
     "name": "stdout",
     "output_type": "stream",
     "text": [
      "10.0 1.0 1.0\n"
     ]
    },
    {
     "name": "stderr",
     "output_type": "stream",
     "text": [
      "C:\\Users\\avigh\\Documents\\python\\VoltageDimentionalReduction\\code\\voltage.py:53: RuntimeWarning: invalid value encountered in divide\n",
      "  self.weights = self.weights / self.weights.sum(axis=1, keepdims=True)\n"
     ]
    },
    {
     "name": "stdout",
     "output_type": "stream",
     "text": [
      "1.0 148.4131591025766 7.38905609893065\n"
     ]
    }
   ],
   "source": [
    "c, p_g = bpf.bestParameterFinder(voltage.gaussiankernel, landmarks, data, minBound=-10, maxBound=10, granularity=10, epsilon=0.5)"
   ]
  },
  {
   "cell_type": "code",
   "execution_count": 82,
   "id": "84da591b-c664-4f92-b6f7-86d3ba91bb43",
   "metadata": {},
   "outputs": [],
   "source": [
    "voltages = []\n",
    "\n",
    "for index in range(0, len(landmarks)):\n",
    "    voltages.append(bpf.calculateFor(voltage.gaussiankernel, [landmarks[index]], data, None, c, p_g)[0])"
   ]
  },
  {
   "cell_type": "code",
   "execution_count": 83,
   "id": "cb8f42f8-2c7f-48e4-ab3c-c864eccc8db6",
   "metadata": {},
   "outputs": [
    {
     "data": {
      "text/plain": [
       "<Figure size 640x480 with 0 Axes>"
      ]
     },
     "metadata": {},
     "output_type": "display_data"
    },
    {
     "data": {
      "text/plain": [
       "<Figure size 800x600 with 0 Axes>"
      ]
     },
     "metadata": {},
     "output_type": "display_data"
    }
   ],
   "source": [
    "bpf.visualizations(voltages, \"../inputoutput/matplotfigures/MNIST\")"
   ]
  },
  {
   "cell_type": "code",
   "execution_count": 84,
   "id": "0d6f2c8a-89b7-4637-93a3-165975705e7c",
   "metadata": {},
   "outputs": [
    {
     "name": "stdout",
     "output_type": "stream",
     "text": [
      "[1.89931330e-01 1.41655076e-01 1.00000000e+00 8.27891641e-01\n",
      " 8.67740070e-01 6.94505768e-01 1.45629941e-01 6.07102223e-01\n",
      " 2.40813950e-01 7.63390711e-01 2.55671692e-09 1.48185923e-09\n",
      " 3.05199456e-09 1.79109725e-09 3.28722132e-09 1.67210667e-09\n",
      " 3.39670701e-09 3.40720928e-09 1.48781318e-08 1.58817278e-09\n",
      " 6.57833598e-06 3.92638507e-06 4.14877839e-06 5.72386879e-06\n",
      " 1.07720842e-05 6.04672348e-06 6.49354557e-06 3.47638131e-06\n",
      " 4.19663649e-06 6.99051847e-06 1.29824735e-05 1.32777141e-05\n",
      " 5.47508924e-05 4.13686679e-05 3.95782889e-05 1.21179518e-05\n",
      " 6.25843921e-05 1.02860323e-04 3.87435989e-05 1.38568347e-05\n",
      " 2.51998302e-07 2.66851718e-07 5.03930103e-07 3.21919131e-07\n",
      " 5.17487053e-08 3.77974966e-07 5.67398690e-07 4.16443148e-07\n",
      " 4.29323932e-07 2.19471172e-06 1.39741046e-05 6.26429191e-05\n",
      " 4.54296285e-05 3.04718359e-04 4.30558585e-05 7.56695684e-05\n",
      " 6.89313593e-05 3.61598139e-05 2.49835456e-05 3.39427584e-05\n",
      " 2.42033122e-04 4.00985249e-05 7.95132126e-05 9.82604232e-05\n",
      " 1.18874736e-04 1.18532287e-04 1.08696516e-04 8.52808552e-06\n",
      " 3.54058895e-06 3.35198972e-06 1.86114173e-07 1.56397686e-06\n",
      " 4.64751859e-07 1.04363844e-07 5.99326745e-07 1.87238887e-07\n",
      " 3.09229983e-07 4.83671442e-07 6.81833839e-07 1.01410014e-06\n",
      " 1.44630004e-05 5.46472816e-05 7.17598006e-06 1.17906397e-05\n",
      " 1.03740333e-05 2.00892733e-05 1.60490903e-05 1.66755227e-05\n",
      " 1.17099516e-05 1.19634149e-05 3.82565370e-07 5.34928288e-07\n",
      " 6.14635797e-07 5.75175509e-07 3.33957540e-07 5.42391743e-08\n",
      " 1.06840009e-07 7.27721459e-07 5.21837461e-07 2.61502846e-07]\n"
     ]
    }
   ],
   "source": [
    "print(voltages[0])"
   ]
  },
  {
   "cell_type": "code",
   "execution_count": 85,
   "id": "ce8fe481-6753-4e82-bb86-535cc43ad5d8",
   "metadata": {},
   "outputs": [
    {
     "name": "stdout",
     "output_type": "stream",
     "text": [
      "[6.41017011e-06 5.13058521e-06 3.03656868e-05 2.57538556e-05\n",
      " 3.90988861e-05 9.05760007e-05 5.19074212e-06 1.36885163e-04\n",
      " 7.95198481e-06 2.47161851e-05 1.00000000e+00 5.58917706e-01\n",
      " 6.49322300e-01 6.85156186e-01 4.60845073e-01 6.35345901e-01\n",
      " 4.26041530e-01 5.44346649e-01 5.27350838e-01 6.04560581e-01\n",
      " 7.58182369e-04 1.64673740e-04 1.80547768e-04 5.68889808e-04\n",
      " 3.59924489e-04 8.73923275e-04 1.05537338e-03 1.67541683e-04\n",
      " 1.70635881e-04 7.89816854e-04 3.04658588e-04 7.55628718e-04\n",
      " 3.50997921e-04 4.70449337e-04 1.99745485e-04 5.36744867e-04\n",
      " 3.50693868e-04 3.42929537e-04 1.67875541e-04 4.78219368e-04\n",
      " 1.80472449e-05 1.94143190e-05 1.24704595e-05 1.94553987e-05\n",
      " 1.34071561e-06 4.59988650e-05 1.31106175e-05 2.44385144e-05\n",
      " 1.18105448e-05 1.46897579e-05 2.69058012e-04 2.88740851e-04\n",
      " 4.84667400e-04 5.71841596e-04 1.62612646e-04 2.66246691e-04\n",
      " 2.57021087e-04 7.12622562e-04 4.80531561e-04 2.91836857e-04\n",
      " 3.79228384e-05 1.08955915e-05 2.17515156e-05 2.71166639e-05\n",
      " 4.17003807e-05 3.33272401e-05 3.04863508e-05 1.43672492e-06\n",
      " 9.62452850e-07 9.11318096e-07 2.10714940e-05 2.34043039e-04\n",
      " 4.91365851e-05 9.22655813e-06 5.47874430e-05 2.10217631e-05\n",
      " 2.37655105e-05 3.38512067e-05 6.28868401e-05 1.44327731e-04\n",
      " 9.40411815e-04 8.07948861e-04 3.03481279e-04 5.73680843e-04\n",
      " 4.68280464e-04 2.54112005e-04 8.07661564e-04 6.26461715e-04\n",
      " 5.34176340e-04 5.82455925e-04 4.67186626e-05 1.38267663e-05\n",
      " 1.28694007e-05 3.19690742e-05 1.63364156e-05 1.40555388e-06\n",
      " 9.17795504e-06 2.15099615e-05 1.34831819e-05 1.82342716e-05]\n"
     ]
    }
   ],
   "source": [
    "print(voltages[1])"
   ]
  },
  {
   "cell_type": "code",
   "execution_count": 86,
   "id": "cc236425-b160-4bf0-a5f2-e3db6c22d8cc",
   "metadata": {},
   "outputs": [
    {
     "name": "stdout",
     "output_type": "stream",
     "text": [
      "[0 0 0 0 0 0 0 0 0 0 1 1 1 1 1 1 1 1 1 1 2 2 2 2 2 2 2 9 2 2 5 5 3 3 3 5 3\n",
      " 3 3 5 4 4 9 4 9 9 9 4 9 9 5 5 5 5 3 5 5 5 5 5 6 6 6 6 6 6 6 6 6 6 7 7 7 4\n",
      " 9 7 4 7 9 7 5 8 8 8 8 5 8 8 8 5 9 9 9 4 4 9 4 9 9 4]\n",
      "Incorrect predictions: 23/100\n",
      "Accuracy: 77.00%\n",
      "Error Rate: 23.00%\n"
     ]
    }
   ],
   "source": [
    "predicted = np.argmax(voltages, axis=0)\n",
    "correct = np.repeat(np.arange(10), k)\n",
    "\n",
    "num_incorrect = np.sum(predicted != correct)\n",
    "\n",
    "accuracy = np.mean(predicted == correct)\n",
    "error_rate = 1 - accuracy\n",
    "\n",
    "print(predicted)\n",
    "print(f\"Incorrect predictions: {num_incorrect}/100\")\n",
    "print(f\"Accuracy: {accuracy:.2%}\")\n",
    "print(f\"Error Rate: {error_rate:.2%}\")"
   ]
  },
  {
   "cell_type": "code",
   "execution_count": null,
   "id": "acc3f51a-a333-4e38-a2d6-326cc6834f9b",
   "metadata": {},
   "outputs": [],
   "source": []
  }
 ],
 "metadata": {
  "kernelspec": {
   "display_name": "Python 3 (ipykernel)",
   "language": "python",
   "name": "python3"
  },
  "language_info": {
   "codemirror_mode": {
    "name": "ipython",
    "version": 3
   },
   "file_extension": ".py",
   "mimetype": "text/x-python",
   "name": "python",
   "nbconvert_exporter": "python",
   "pygments_lexer": "ipython3",
   "version": "3.13.2"
  }
 },
 "nbformat": 4,
 "nbformat_minor": 5
}
