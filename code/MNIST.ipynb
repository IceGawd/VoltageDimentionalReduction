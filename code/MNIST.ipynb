{
 "cells": [
  {
   "cell_type": "code",
   "execution_count": 1,
   "id": "62291881-06f3-4d0e-a178-ed0853252e58",
   "metadata": {},
   "outputs": [],
   "source": [
    "import create_data\n",
    "import kmeans\n",
    "import voltage\n",
    "import os\n",
    "import importlib\n",
    "import time\n",
    "import bpf\n",
    "import numpy as np\n",
    "\n",
    "\n",
    "from sklearn.decomposition import PCA\n",
    "import matplotlib.pyplot as plt\n",
    "from sklearn.datasets import fetch_openml"
   ]
  },
  {
   "cell_type": "code",
   "execution_count": 2,
   "id": "499c0c1b-e9ba-4fd1-bd2e-0dc66a9a8b9b",
   "metadata": {},
   "outputs": [
    {
     "data": {
      "text/plain": [
       "<module 'bpf' from 'C:\\\\Users\\\\avigh\\\\Documents\\\\python\\\\VoltageDimentionalReduction\\\\code\\\\bpf.py'>"
      ]
     },
     "execution_count": 2,
     "metadata": {},
     "output_type": "execute_result"
    }
   ],
   "source": [
    "importlib.reload(create_data)\n",
    "importlib.reload(kmeans)\n",
    "importlib.reload(voltage)\n",
    "importlib.reload(bpf)"
   ]
  },
  {
   "cell_type": "code",
   "execution_count": 3,
   "id": "d47dd5d2-5c87-4dd4-a83f-c4e762825880",
   "metadata": {},
   "outputs": [
    {
     "name": "stdout",
     "output_type": "stream",
     "text": [
      "Loading Data...\n"
     ]
    }
   ],
   "source": [
    "print(\"Loading Data...\")\n",
    "mnist = fetch_openml('mnist_784', version=1, as_frame=False)\n",
    "X, y = mnist.data, mnist.target.astype(np.int64)\n",
    "\n",
    "# data = create_data.Data(np.array(X))"
   ]
  },
  {
   "cell_type": "code",
   "execution_count": 4,
   "id": "e6cd943a-a06e-4bbd-975f-687f12df8d24",
   "metadata": {},
   "outputs": [
    {
     "name": "stdout",
     "output_type": "stream",
     "text": [
      "Sorting and averaging...\n"
     ]
    }
   ],
   "source": [
    "subDivision = {}\n",
    "summation = {}\n",
    "count = {}\n",
    "\n",
    "print(\"Sorting and averaging...\")\n",
    "\n",
    "for xi, yi in zip(X, y):\n",
    "    if yi in summation:\n",
    "        subDivision[yi].append(np.array(xi))\n",
    "        summation[yi] += np.array(xi)\n",
    "        count[yi] += 1\n",
    "    else:\n",
    "        subDivision[yi] = [np.array(xi)]\n",
    "        summation[yi] = np.array(xi)\n",
    "        count[yi] = 1"
   ]
  },
  {
   "cell_type": "code",
   "execution_count": 5,
   "id": "0040fbcc-c94e-45a5-86af-6b6e396dc30d",
   "metadata": {},
   "outputs": [
    {
     "name": "stdout",
     "output_type": "stream",
     "text": [
      "Kmeans...\n",
      "0\n",
      "1\n",
      "2\n",
      "3\n",
      "4\n",
      "5\n",
      "6\n",
      "7\n",
      "8\n",
      "9\n",
      "100\n",
      "[4, 19, 24, 37, 46, 59, 63, 72, 82, 93]\n"
     ]
    }
   ],
   "source": [
    "print(\"Kmeans...\")\n",
    "\n",
    "k = 10\n",
    "landmarks = []\n",
    "data = []\n",
    "\n",
    "for yi in range(10):\n",
    "    print(yi)\n",
    "    \n",
    "    partitions = kmeans.Partitions(subDivision[yi])\n",
    "    partitions.k_means(k, seed=time.time())\n",
    "\n",
    "    data += list(partitions.centers)\n",
    "\n",
    "for yi in range(10):\n",
    "    landmarks.append(voltage.createLandmarkClosestTo(data, summation[yi] / count[yi], 1))\n",
    "\n",
    "data = create_data.Data(data)\n",
    "print(len(data))\n",
    "print([l.index for l in landmarks])"
   ]
  },
  {
   "cell_type": "code",
   "execution_count": 6,
   "id": "9134cd40-628f-4001-8800-b168efd6ab6e",
   "metadata": {},
   "outputs": [
    {
     "name": "stdout",
     "output_type": "stream",
     "text": [
      "<class 'create_data.Data'>\n",
      "True\n"
     ]
    }
   ],
   "source": [
    "print(type(data))\n",
    "print(isinstance(data, create_data.Data))"
   ]
  },
  {
   "cell_type": "code",
   "execution_count": 17,
   "id": "1cfdc8de-a004-4a02-a260-50fb907207b4",
   "metadata": {},
   "outputs": [
    {
     "name": "stdout",
     "output_type": "stream",
     "text": [
      "Parameter Finding...\n",
      "2.0 148.4131591025766 148.4131591025766\n",
      "1.0 403.4287934927351 54.598150033144236\n",
      "6.0 3.5\n",
      "2.0 148.4131591025766 148.4131591025766\n",
      "1.0 403.4287934927351 54.598150033144236\n",
      "6.0 3.5\n",
      "2.0 148.4131591025766 148.4131591025766\n",
      "1.0 403.4287934927351 54.598150033144236\n",
      "6.0 3.5\n",
      "2.0 148.4131591025766 148.4131591025766\n",
      "1.0 403.4287934927351 54.598150033144236\n",
      "6.0 3.5\n",
      "2.0 148.4131591025766 148.4131591025766\n",
      "1.0 403.4287934927351 54.598150033144236\n",
      "6.0 3.5\n",
      "2.0 148.4131591025766 148.4131591025766\n",
      "1.0 403.4287934927351 54.598150033144236\n",
      "6.0 3.5\n",
      "2.0 148.4131591025766 148.4131591025766\n",
      "1.0 148.4131591025766 54.598150033144236\n",
      "5.5 3.5\n",
      "2.0 148.4131591025766 148.4131591025766\n",
      "1.0 403.4287934927351 54.598150033144236\n",
      "6.0 3.5\n",
      "2.0 148.4131591025766 148.4131591025766\n",
      "1.0 148.4131591025766 54.598150033144236\n",
      "5.0 3.5\n",
      "2.0 148.4131591025766 148.4131591025766\n",
      "1.0 148.4131591025766 54.598150033144236\n",
      "5.5 3.5\n",
      "[6.0, 6.0, 6.0, 6.0, 6.0, 6.0, 5.5, 6.0, 5.0, 5.5]\n",
      "[3.5, 3.5, 3.5, 3.5, 3.5, 3.5, 3.5, 3.5, 3.5, 3.5]\n"
     ]
    }
   ],
   "source": [
    "print(\"Parameter Finding...\")\n",
    "\n",
    "cs = []\n",
    "pgs = []\n",
    "\n",
    "for landmark in landmarks:\n",
    "    c, p_g = bpf.bestParameterFinder(voltage.gaussiankernel, [landmark], data, minBound=3, maxBound=7, granularity=2, epsilon=0.5)\n",
    "    print(c, p_g)\n",
    "    cs.append(c)\n",
    "    pgs.append(p_g)\n",
    "\n",
    "print(cs)\n",
    "print(pgs)"
   ]
  },
  {
   "cell_type": "code",
   "execution_count": 18,
   "id": "84da591b-c664-4f92-b6f7-86d3ba91bb43",
   "metadata": {},
   "outputs": [],
   "source": [
    "voltages = []\n",
    "\n",
    "for index in range(0, len(landmarks)):\n",
    "    voltages.append(bpf.calculateFor(voltage.gaussiankernel, [landmarks[index]], data, None, cs[index], pgs[index])[0])"
   ]
  },
  {
   "cell_type": "code",
   "execution_count": 21,
   "id": "cb8f42f8-2c7f-48e4-ab3c-c864eccc8db6",
   "metadata": {},
   "outputs": [
    {
     "data": {
      "text/plain": [
       "<Figure size 640x480 with 0 Axes>"
      ]
     },
     "metadata": {},
     "output_type": "display_data"
    },
    {
     "data": {
      "text/plain": [
       "<Figure size 800x600 with 0 Axes>"
      ]
     },
     "metadata": {},
     "output_type": "display_data"
    }
   ],
   "source": [
    "bpf.visualizations(voltages, \"../inputoutput/matplotfigures/MNIST\")"
   ]
  },
  {
   "cell_type": "code",
   "execution_count": 19,
   "id": "0d6f2c8a-89b7-4637-93a3-165975705e7c",
   "metadata": {},
   "outputs": [
    {
     "name": "stdout",
     "output_type": "stream",
     "text": [
      "[1.56650505e-01 1.87745908e-01 2.37758340e-01 2.29309170e-01\n",
      " 1.00000000e+00 2.93537823e-01 1.04824228e-01 4.10635901e-01\n",
      " 1.46984615e-01 1.61697570e-01 5.40335964e-04 3.95934541e-04\n",
      " 4.42730530e-04 6.56298177e-04 4.36297814e-04 3.94677599e-04\n",
      " 5.72256534e-04 4.17020673e-04 4.70992512e-04 3.83520901e-04\n",
      " 9.02922437e-03 2.78917517e-03 3.97591795e-03 2.31124529e-03\n",
      " 3.64428201e-03 2.81744130e-03 2.24540939e-03 2.55807788e-03\n",
      " 5.19868567e-03 2.15547594e-03 2.10257202e-03 5.53180293e-03\n",
      " 4.48370253e-03 4.21781563e-03 3.35621569e-03 6.11575964e-03\n",
      " 6.54057512e-03 4.53181656e-03 4.01193261e-03 7.08640084e-03\n",
      " 2.09494389e-03 1.28023214e-03 1.19727064e-03 1.21616784e-03\n",
      " 1.27246000e-03 1.52937714e-03 1.94492934e-03 1.52492795e-03\n",
      " 1.15032575e-03 1.23359376e-03 1.51423401e-02 3.90734581e-03\n",
      " 8.94189410e-03 3.08444961e-03 1.35739844e-02 5.94808129e-03\n",
      " 1.10830378e-02 7.86969527e-03 4.05586395e-03 5.15820574e-03\n",
      " 1.52104745e-02 6.40036666e-03 5.95837422e-03 7.50893032e-03\n",
      " 6.46933049e-03 6.06879783e-03 7.22211041e-03 1.14742950e-02\n",
      " 8.46967963e-03 4.55735855e-03 1.07320182e-03 1.08595383e-03\n",
      " 8.80876017e-04 8.45249952e-04 1.74906766e-03 1.11996163e-03\n",
      " 7.77040910e-04 9.06710683e-04 1.11361303e-03 9.92394061e-04\n",
      " 2.90736984e-03 2.48253949e-03 2.37176717e-03 3.14563546e-03\n",
      " 6.40566594e-03 3.38850516e-03 3.65388923e-03 2.94801068e-03\n",
      " 2.99565617e-03 1.10359389e-02 1.07920617e-03 1.40806512e-03\n",
      " 1.57455937e-03 1.28703706e-03 1.36087310e-03 1.29658189e-03\n",
      " 1.16475216e-03 1.16598980e-03 1.30723298e-03 3.41866063e-03]\n"
     ]
    }
   ],
   "source": [
    "print(voltages[0])"
   ]
  },
  {
   "cell_type": "code",
   "execution_count": 20,
   "id": "ce8fe481-6753-4e82-bb86-535cc43ad5d8",
   "metadata": {},
   "outputs": [
    {
     "name": "stdout",
     "output_type": "stream",
     "text": [
      "[0.00412722 0.00169726 0.00161836 0.00161407 0.00311427 0.00266444\n",
      " 0.00663559 0.0030662  0.00574318 0.00188665 0.12483099 0.41611854\n",
      " 0.18187911 0.11127136 0.26307797 0.35641288 0.22952688 0.26030016\n",
      " 0.16288808 1.         0.00848278 0.0170488  0.00641455 0.01786835\n",
      " 0.00978387 0.02040137 0.01953977 0.02166803 0.00573706 0.04307813\n",
      " 0.0206812  0.00564085 0.00924857 0.00885973 0.00944576 0.00683801\n",
      " 0.00872335 0.01578271 0.00757372 0.0072157  0.00927849 0.01013124\n",
      " 0.00927517 0.00484809 0.01739856 0.00427721 0.00617114 0.0032118\n",
      " 0.00772958 0.00621587 0.00811779 0.00893243 0.00649293 0.03322711\n",
      " 0.00601412 0.0097096  0.00511199 0.01397166 0.01793355 0.01234929\n",
      " 0.00581219 0.00825552 0.01834228 0.00948554 0.00457998 0.00507363\n",
      " 0.00387307 0.00791261 0.00510342 0.02147542 0.0205549  0.01495839\n",
      " 0.00992793 0.00930807 0.00480178 0.00634548 0.00972056 0.0107948\n",
      " 0.00644844 0.03307827 0.01199526 0.02838957 0.01658443 0.00961939\n",
      " 0.00879153 0.01150201 0.01207469 0.01461275 0.01304002 0.00556846\n",
      " 0.01309837 0.00738235 0.00332284 0.00673012 0.00719101 0.00467813\n",
      " 0.01351454 0.01305939 0.00662261 0.00430671]\n"
     ]
    }
   ],
   "source": [
    "print(voltages[1])"
   ]
  },
  {
   "cell_type": "code",
   "execution_count": null,
   "id": "cc236425-b160-4bf0-a5f2-e3db6c22d8cc",
   "metadata": {},
   "outputs": [],
   "source": []
  }
 ],
 "metadata": {
  "kernelspec": {
   "display_name": "Python 3 (ipykernel)",
   "language": "python",
   "name": "python3"
  },
  "language_info": {
   "codemirror_mode": {
    "name": "ipython",
    "version": 3
   },
   "file_extension": ".py",
   "mimetype": "text/x-python",
   "name": "python",
   "nbconvert_exporter": "python",
   "pygments_lexer": "ipython3",
   "version": "3.13.2"
  }
 },
 "nbformat": 4,
 "nbformat_minor": 5
}
