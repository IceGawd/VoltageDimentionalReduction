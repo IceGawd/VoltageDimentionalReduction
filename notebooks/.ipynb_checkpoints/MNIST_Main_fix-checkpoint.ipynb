{
 "cells": [
  {
   "cell_type": "code",
   "execution_count": 3,
   "id": "623490bf-843c-46d7-b260-cab45630a1e7",
   "metadata": {},
   "outputs": [],
   "source": [
    "import sys\n",
    "import os\n",
    "sys.path.append(os.path.abspath(\"../clean_code\"))"
   ]
  },
  {
   "cell_type": "code",
   "execution_count": 12,
   "id": "d2f68901-6409-45e2-a1be-175bd23b2dc1",
   "metadata": {},
   "outputs": [],
   "source": [
    "import numpy as np\n",
    "from typing import Union, Optional, List, Any, Tuple, Callable, Dict\n",
    "from itertools import product\n",
    "import pandas\n",
    "import matplotlib.pyplot as plt\n",
    "import random\n",
    "\n",
    "from scipy.sparse.linalg import cg\n",
    "from sklearn.neighbors import NearestNeighbors\n",
    "from scipy.sparse import lil_matrix, csr_matrix\n",
    "from sklearn.metrics import confusion_matrix, ConfusionMatrixDisplay\n",
    "from sklearn.decomposition import PCA\n",
    "from sklearn.manifold import MDS\n",
    "from sklearn.datasets import fetch_openml\n",
    "\n",
    "import importlib\n",
    "\n",
    "import landmark\n",
    "import voltagemap\n",
    "import problem\n",
    "import solver\n",
    "import visualization\n",
    "import setofpoints\n",
    "import kmeans\n",
    "import config"
   ]
  },
  {
   "cell_type": "code",
   "execution_count": 28,
   "id": "1fdf7af3-84a9-4df9-8eb0-b4d1c32112bc",
   "metadata": {},
   "outputs": [
    {
     "name": "stdout",
     "output_type": "stream",
     "text": [
      "Streaming K-means on MNIST dataset\n",
      "Read 10000 vectors\n",
      "Estimated max pairwise distance squared, FAISS) = 14421172.0000\n",
      " Estimated minimum distance squared = 89648.0000\n",
      "10 vectors in index after adding initial centroid\n",
      "Read 20000 vectors\n",
      "number of centroids: 1000, max_centroids: 1000\n",
      "Reached maximum number of centroids: 1000\n",
      "Read 60000 vectorsmean d2= 1691984.3909555\n",
      "Closing reader...\n",
      "X.shape= (1000, 784)\n"
     ]
    }
   ],
   "source": [
    "print(\"Streaming K-means on MNIST dataset\")\n",
    "\n",
    "config.params['file_path']= '../data/mnist.csv'\n",
    "config.params['split_char']= ','\n",
    "config.params['normalize_vecs']= False\n",
    "config.params['max_centroids']= 1000\n",
    "config.params['init_size']= 1000\n",
    "config.params['batch_size']= 10000\n",
    "config.params['output']= 'streaming_centroids.npy'\n",
    "\n",
    "centroids,counters,inital_mean_d2,mean_d2=kmeans.Streaming_Kmeans(config.params['file_path'])\n",
    "\n",
    "X = np.stack(centroids)\n",
    "print('X.shape=',X.shape)\n",
    "\n",
    "# Normalize pixel values to [0, 1]\n",
    "X = X / 255.0\n",
    "y = 0 # just a patch to make things run, as we do not use labels in this example"
   ]
  },
  {
   "cell_type": "code",
   "execution_count": 30,
   "id": "bcc4aaad-d5c3-4ab7-9eda-5c07be7018c7",
   "metadata": {},
   "outputs": [],
   "source": [
    "mnist = fetch_openml('mnist_784', version=1, as_frame=False)\n",
    "X2, y2 = mnist.data, mnist.target.astype(np.int64)\n",
    "\n",
    "# Normalize pixel values to [0, 1]\n",
    "X2 = X2 / 255.0\n",
    "\n",
    "X2 = X2[:1000]\n",
    "y2 = y2[:1000]"
   ]
  },
  {
   "cell_type": "code",
   "execution_count": 35,
   "id": "023a409e-9140-4f65-98fb-87ac36f464b7",
   "metadata": {},
   "outputs": [],
   "source": [
    "#av: TODO replace compressed_set with point_set\n",
    "# define set of points on which we will work\n",
    "point_set = setofpoints.SetOfPoints(points=X2)\n",
    "\n",
    "#av: TODO choose landmarks randoomly or greeedily\n",
    "# Special for MNist : \n",
    "# Select one sample per digit to serve as a landmark\n",
    "landmarks = []\n",
    "\n",
    "for digit in range(10):\n",
    "    landmarks.append(landmark.Landmark(random.randint(0, centroids.shape[0]),1.0))\n",
    "\n",
    "mnist_problem = problem.Problem(point_set, r=1)\n",
    "# mnist_problem.optimize(landmarks, k=4, target_avg_voltage=0.5)"
   ]
  },
  {
   "cell_type": "code",
   "execution_count": 38,
   "id": "ad3550c7-8a06-46f4-b0e7-672f28855fb7",
   "metadata": {
    "scrolled": true
   },
   "outputs": [
    {
     "name": "stdout",
     "output_type": "stream",
     "text": [
      "(10, 1000)\n"
     ]
    }
   ],
   "source": [
    "# Initialize the map\n",
    "voltage_map = voltagemap.VoltageMap()\n",
    "\n",
    "# Compute voltages for each landmark and store in the map\n",
    "for lm in landmarks:\n",
    "    mnist_solver = solver.Solver(problem=mnist_problem)\n",
    "    voltages = mnist_solver.compute_voltages(k=2, landmarks=[lm])\n",
    "    voltage_map.add_solution(landmark_index=lm.index, voltages=voltages)\n",
    "\n",
    "print(np.array(voltage_map.voltage_maps).shape)"
   ]
  },
  {
   "cell_type": "code",
   "execution_count": 42,
   "id": "8ece752a-327a-44e2-bfb8-3684de488d92",
   "metadata": {},
   "outputs": [],
   "source": [
    "#av: TODO call some visualizations, that store the figure into a file.\n",
    "def plot_mds_digits(selected_digits, voltages, data, correct, n_outliers=0, alpha_actual=1, percent_size=0.02, out_file=None):\n",
    "    \"\"\"\n",
    "    Draws the MNIST digits corresponding to each point after running MDS\n",
    "\n",
    "    Args:\n",
    "        selected_digits (List[int]): The digits to plot\n",
    "        voltages (VoltageMap): The digits to plot\n",
    "        data (SetOfPoints): The digits to plot\n",
    "        correct (List[int]): The correct labels for each point in data\n",
    "        n_outliers (Optional[int]): The number of outliers to remove\n",
    "        alpha_actual (Optional[float]): The opacity of each digit, 1 is fully opaque and 0 is fully transparent\n",
    "        percent_size (Optional[float]): The size of each digit, 1 is the size of the whole space and 0 is no image size\n",
    "        out_file (Optional[str]): If provided, the output path to save the figure (e.g., \"digits.png\")\n",
    "    \"\"\"\n",
    "\n",
    "    voltages = np.array(voltages.voltage_maps)\n",
    "\n",
    "    indices= [i for i, label in enumerate(correct) if label in selected_digits]\n",
    "    filtered_voltages = voltages[np.ix_(selected_digits, indices)]\n",
    "    points = np.array(list(map(list, zip(*filtered_voltages))))\n",
    "\n",
    "    filtered_data = np.array([data[i] for i in indices])\n",
    "    filtered_labels = np.array([correct[i] for i in indices])\n",
    "\n",
    "    # Step 1: Run MDS on voltages    \n",
    "    mds = MDS(n_components=2)\n",
    "    transformed_points = mds.fit_transform(points)\n",
    "\n",
    "    # Step 2: Remove outliers\n",
    "    center = np.mean(transformed_points, axis=0)\n",
    "    distances = np.linalg.norm(transformed_points - center, axis=1)\n",
    "\n",
    "    if (n_outliers):\n",
    "        outlier_indices = np.argsort(distances)[-n_outliers:]\n",
    "    else:\n",
    "         \n",
    "    \n",
    "    mask = np.ones(len(transformed_points), dtype=bool)\n",
    "    mask[outlier_indices] = False\n",
    "    inlier_points = transformed_points[mask]\n",
    "    \n",
    "    # Step 3: Plot MNIST images with colored alpha\n",
    "    fig, ax = plt.subplots(figsize=(12, 10))\n",
    "\n",
    "    # Assign distinct colors for each digit\n",
    "    colors = [[1, 0, 0], [0, 1, 0], [0, 0, 1], [1, 1, 0], [0, 1, 1], [1, 0, 1], [1, 1, 1]]\n",
    "    \n",
    "    digit_colors = {}\n",
    "\n",
    "    for i, label in enumerate(selected_digits):\n",
    "        digit_colors[label] = colors[i]\n",
    "\n",
    "    x_bound = (inlier_points[:, 0].min(), inlier_points[:, 0].max())\n",
    "    y_bound = (inlier_points[:, 1].min(), inlier_points[:, 1].max())\n",
    "\n",
    "    image_size = (x_bound[1] + y_bound[1] - x_bound[0] - y_bound[0]) * percent_size / 2\n",
    "    \n",
    "    for i in np.where(mask)[0]:\n",
    "        alpha_mask = np.clip(filtered_data[i].reshape(28, 28), 0, 1)\n",
    "\n",
    "        label = filtered_labels[i]\n",
    "        color = np.array(digit_colors[label])\n",
    "        if (np.max(voltages[:, i]) > 0.9):\n",
    "            color = np.array([1, 1, 1])\n",
    "\n",
    "        # Create RGBA image\n",
    "        rgb_image = np.zeros((28, 28, 4))\n",
    "        for c in range(3):\n",
    "            rgb_image[..., c] = color[c]\n",
    "        rgb_image[..., 3] = alpha_mask * alpha_actual  # Alpha from pixel intensity\n",
    "\n",
    "        x, y = transformed_points[i]\n",
    "        ax.imshow(rgb_image, extent=(x - image_size, x + image_size, y - image_size, y + image_size), origin='upper')\n",
    "    \n",
    "    ax.set_xlim(x_bound[0] - image_size, x_bound[1] + image_size)\n",
    "    ax.set_ylim(y_bound[0] - image_size, y_bound[1] + image_size)\n",
    "    ax.set_facecolor('black')\n",
    "    fig.patch.set_facecolor('black')\n",
    "    plt.title(\"MDS Visualization of Digits: \" + \", \".join(map(str, selected_digits)))\n",
    "\n",
    "    if out_file:\n",
    "        plt.savefig(out_file)\n",
    "        plt.close(fig)\n",
    "    else:\n",
    "        plt.show()\n"
   ]
  },
  {
   "cell_type": "code",
   "execution_count": 43,
   "id": "6599cbc5-a208-4668-abb0-e14a439e69b3",
   "metadata": {},
   "outputs": [
    {
     "ename": "ValueError",
     "evalue": "zero-size array to reduction operation minimum which has no identity",
     "output_type": "error",
     "traceback": [
      "\u001b[31m---------------------------------------------------------------------------\u001b[39m",
      "\u001b[31mValueError\u001b[39m                                Traceback (most recent call last)",
      "\u001b[36mCell\u001b[39m\u001b[36m \u001b[39m\u001b[32mIn[43]\u001b[39m\u001b[32m, line 1\u001b[39m\n\u001b[32m----> \u001b[39m\u001b[32m1\u001b[39m \u001b[43mplot_mds_digits\u001b[49m\u001b[43m(\u001b[49m\u001b[43m[\u001b[49m\u001b[32;43m0\u001b[39;49m\u001b[43m]\u001b[49m\u001b[43m,\u001b[49m\u001b[43m \u001b[49m\u001b[43mvoltage_map\u001b[49m\u001b[43m,\u001b[49m\u001b[43m \u001b[49m\u001b[43mpoint_set\u001b[49m\u001b[43m,\u001b[49m\u001b[43m \u001b[49m\u001b[43mnp\u001b[49m\u001b[43m.\u001b[49m\u001b[43mzeros\u001b[49m\u001b[43m(\u001b[49m\u001b[32;43m1000\u001b[39;49m\u001b[43m)\u001b[49m\u001b[43m,\u001b[49m\u001b[43m \u001b[49m\u001b[43malpha_actual\u001b[49m\u001b[43m=\u001b[49m\u001b[32;43m0.5\u001b[39;49m\u001b[43m)\u001b[49m\n",
      "\u001b[36mCell\u001b[39m\u001b[36m \u001b[39m\u001b[32mIn[42]\u001b[39m\u001b[32m, line 49\u001b[39m, in \u001b[36mplot_mds_digits\u001b[39m\u001b[34m(selected_digits, voltages, data, correct, n_outliers, alpha_actual, percent_size, out_file)\u001b[39m\n\u001b[32m     46\u001b[39m \u001b[38;5;28;01mfor\u001b[39;00m i, label \u001b[38;5;129;01min\u001b[39;00m \u001b[38;5;28menumerate\u001b[39m(selected_digits):\n\u001b[32m     47\u001b[39m     digit_colors[label] = colors[i]\n\u001b[32m---> \u001b[39m\u001b[32m49\u001b[39m x_bound = (\u001b[43minlier_points\u001b[49m\u001b[43m[\u001b[49m\u001b[43m:\u001b[49m\u001b[43m,\u001b[49m\u001b[43m \u001b[49m\u001b[32;43m0\u001b[39;49m\u001b[43m]\u001b[49m\u001b[43m.\u001b[49m\u001b[43mmin\u001b[49m\u001b[43m(\u001b[49m\u001b[43m)\u001b[49m, inlier_points[:, \u001b[32m0\u001b[39m].max())\n\u001b[32m     50\u001b[39m y_bound = (inlier_points[:, \u001b[32m1\u001b[39m].min(), inlier_points[:, \u001b[32m1\u001b[39m].max())\n\u001b[32m     52\u001b[39m image_size = (x_bound[\u001b[32m1\u001b[39m] + y_bound[\u001b[32m1\u001b[39m] - x_bound[\u001b[32m0\u001b[39m] - y_bound[\u001b[32m0\u001b[39m]) * percent_size / \u001b[32m2\u001b[39m\n",
      "\u001b[36mFile \u001b[39m\u001b[32m/usr/lib/python3/dist-packages/numpy/core/_methods.py:45\u001b[39m, in \u001b[36m_amin\u001b[39m\u001b[34m(a, axis, out, keepdims, initial, where)\u001b[39m\n\u001b[32m     43\u001b[39m \u001b[38;5;28;01mdef\u001b[39;00m \u001b[34m_amin\u001b[39m(a, axis=\u001b[38;5;28;01mNone\u001b[39;00m, out=\u001b[38;5;28;01mNone\u001b[39;00m, keepdims=\u001b[38;5;28;01mFalse\u001b[39;00m,\n\u001b[32m     44\u001b[39m           initial=_NoValue, where=\u001b[38;5;28;01mTrue\u001b[39;00m):\n\u001b[32m---> \u001b[39m\u001b[32m45\u001b[39m     \u001b[38;5;28;01mreturn\u001b[39;00m \u001b[43mumr_minimum\u001b[49m\u001b[43m(\u001b[49m\u001b[43ma\u001b[49m\u001b[43m,\u001b[49m\u001b[43m \u001b[49m\u001b[43maxis\u001b[49m\u001b[43m,\u001b[49m\u001b[43m \u001b[49m\u001b[38;5;28;43;01mNone\u001b[39;49;00m\u001b[43m,\u001b[49m\u001b[43m \u001b[49m\u001b[43mout\u001b[49m\u001b[43m,\u001b[49m\u001b[43m \u001b[49m\u001b[43mkeepdims\u001b[49m\u001b[43m,\u001b[49m\u001b[43m \u001b[49m\u001b[43minitial\u001b[49m\u001b[43m,\u001b[49m\u001b[43m \u001b[49m\u001b[43mwhere\u001b[49m\u001b[43m)\u001b[49m\n",
      "\u001b[31mValueError\u001b[39m: zero-size array to reduction operation minimum which has no identity"
     ]
    },
    {
     "data": {
      "image/png": "[encoded data removed]",
      "text/plain": [
       "<Figure size 1200x1000 with 1 Axes>"
      ]
     },
     "metadata": {},
     "output_type": "display_data"
    }
   ],
   "source": [
    "plot_mds_digits([0], voltage_map, point_set, np.zeros(1000), alpha_actual=0.5)"
   ]
  },
  {
   "cell_type": "code",
   "execution_count": null,
   "id": "21616100-ebd6-4c7c-b6c6-ee6efc9a7f14",
   "metadata": {},
   "outputs": [],
   "source": []
  }
 ],
 "metadata": {
  "kernelspec": {
   "display_name": "Python 3 (ipykernel)",
   "language": "python",
   "name": "python3"
  },
  "language_info": {
   "codemirror_mode": {
    "name": "ipython",
    "version": 3
   },
   "file_extension": ".py",
   "mimetype": "text/x-python",
   "name": "python",
   "nbconvert_exporter": "python",
   "pygments_lexer": "ipython3",
   "version": "3.12.3"
  }
 },
 "nbformat": 4,
 "nbformat_minor": 5
}
